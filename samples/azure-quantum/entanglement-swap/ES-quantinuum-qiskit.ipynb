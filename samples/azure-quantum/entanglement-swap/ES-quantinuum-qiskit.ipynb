{
 "cells": [
  {
   "cell_type": "markdown",
   "metadata": {},
   "source": [
    "# Quantum Teleportation"
   ]
  },
  {
   "cell_type": "code",
   "execution_count": 1,
   "metadata": {},
   "outputs": [
    {
     "name": "stdout",
     "output_type": "stream",
     "text": [
      "Requirement already satisfied: qiskit in c:\\users\\t-alehmann\\appdata\\roaming\\python\\python39\\site-packages (0.36.2)\n",
      "Requirement already satisfied: matplotlib in c:\\users\\t-alehmann\\miniconda3\\envs\\qsharp-env\\lib\\site-packages (3.5.2)\n",
      "Requirement already satisfied: azure-quantum[qiskit] in c:\\users\\t-alehmann\\miniconda3\\envs\\qsharp-env\\lib\\site-packages (0.24.210930)\n",
      "Requirement already satisfied: qiskit-ignis==0.7.1 in c:\\users\\t-alehmann\\appdata\\roaming\\python\\python39\\site-packages (from qiskit) (0.7.1)\n",
      "Requirement already satisfied: qiskit-ibmq-provider==0.19.1 in c:\\users\\t-alehmann\\appdata\\roaming\\python\\python39\\site-packages (from qiskit) (0.19.1)\n",
      "Requirement already satisfied: qiskit-terra==0.20.2 in c:\\users\\t-alehmann\\appdata\\roaming\\python\\python39\\site-packages (from qiskit) (0.20.2)\n",
      "Requirement already satisfied: qiskit-aer==0.10.4 in c:\\users\\t-alehmann\\appdata\\roaming\\python\\python39\\site-packages (from qiskit) (0.10.4)\n",
      "Requirement already satisfied: scipy>=1.0 in c:\\users\\t-alehmann\\appdata\\roaming\\python\\python39\\site-packages (from qiskit-aer==0.10.4->qiskit) (1.8.1)\n",
      "Requirement already satisfied: numpy>=1.16.3 in c:\\users\\t-alehmann\\appdata\\roaming\\python\\python39\\site-packages (from qiskit-aer==0.10.4->qiskit) (1.23.0)\n",
      "Requirement already satisfied: python-dateutil>=2.8.0 in c:\\users\\t-alehmann\\miniconda3\\envs\\qsharp-env\\lib\\site-packages (from qiskit-ibmq-provider==0.19.1->qiskit) (2.8.2)\n",
      "Requirement already satisfied: websocket-client>=1.0.1 in c:\\users\\t-alehmann\\appdata\\roaming\\python\\python39\\site-packages (from qiskit-ibmq-provider==0.19.1->qiskit) (1.3.3)\n",
      "Requirement already satisfied: requests>=2.19 in c:\\users\\t-alehmann\\appdata\\roaming\\python\\python39\\site-packages (from qiskit-ibmq-provider==0.19.1->qiskit) (2.28.0)\n",
      "Requirement already satisfied: websockets>=10.0 in c:\\users\\t-alehmann\\appdata\\roaming\\python\\python39\\site-packages (from qiskit-ibmq-provider==0.19.1->qiskit) (10.3)\n",
      "Requirement already satisfied: urllib3>=1.21.1 in c:\\users\\t-alehmann\\appdata\\roaming\\python\\python39\\site-packages (from qiskit-ibmq-provider==0.19.1->qiskit) (1.26.9)\n",
      "Requirement already satisfied: requests-ntlm>=1.1.0 in c:\\users\\t-alehmann\\appdata\\roaming\\python\\python39\\site-packages (from qiskit-ibmq-provider==0.19.1->qiskit) (1.1.0)\n",
      "Requirement already satisfied: setuptools>=40.1.0 in c:\\users\\t-alehmann\\miniconda3\\envs\\qsharp-env\\lib\\site-packages (from qiskit-ignis==0.7.1->qiskit) (61.2.0)\n",
      "Requirement already satisfied: retworkx>=0.8.0 in c:\\users\\t-alehmann\\appdata\\roaming\\python\\python39\\site-packages (from qiskit-ignis==0.7.1->qiskit) (0.11.0)\n",
      "Requirement already satisfied: stevedore>=3.0.0 in c:\\users\\t-alehmann\\appdata\\roaming\\python\\python39\\site-packages (from qiskit-terra==0.20.2->qiskit) (3.5.0)\n",
      "Requirement already satisfied: dill>=0.3 in c:\\users\\t-alehmann\\appdata\\roaming\\python\\python39\\site-packages (from qiskit-terra==0.20.2->qiskit) (0.3.5.1)\n",
      "Requirement already satisfied: psutil>=5 in c:\\users\\t-alehmann\\appdata\\roaming\\python\\python39\\site-packages (from qiskit-terra==0.20.2->qiskit) (5.9.1)\n",
      "Requirement already satisfied: python-constraint>=1.4 in c:\\users\\t-alehmann\\appdata\\roaming\\python\\python39\\site-packages (from qiskit-terra==0.20.2->qiskit) (1.4.0)\n",
      "Requirement already satisfied: tweedledum<2.0,>=1.1 in c:\\users\\t-alehmann\\appdata\\roaming\\python\\python39\\site-packages (from qiskit-terra==0.20.2->qiskit) (1.1.1)\n",
      "Requirement already satisfied: sympy>=1.3 in c:\\users\\t-alehmann\\appdata\\roaming\\python\\python39\\site-packages (from qiskit-terra==0.20.2->qiskit) (1.10.1)\n",
      "Requirement already satisfied: ply>=3.10 in c:\\users\\t-alehmann\\appdata\\roaming\\python\\python39\\site-packages (from qiskit-terra==0.20.2->qiskit) (3.11)\n",
      "Requirement already satisfied: packaging>=20.0 in c:\\users\\t-alehmann\\miniconda3\\envs\\qsharp-env\\lib\\site-packages (from matplotlib) (21.3)\n",
      "Requirement already satisfied: cycler>=0.10 in c:\\users\\t-alehmann\\miniconda3\\envs\\qsharp-env\\lib\\site-packages (from matplotlib) (0.11.0)\n",
      "Requirement already satisfied: kiwisolver>=1.0.1 in c:\\users\\t-alehmann\\miniconda3\\envs\\qsharp-env\\lib\\site-packages (from matplotlib) (1.4.3)\n",
      "Requirement already satisfied: fonttools>=4.22.0 in c:\\users\\t-alehmann\\miniconda3\\envs\\qsharp-env\\lib\\site-packages (from matplotlib) (4.33.3)\n",
      "Requirement already satisfied: pyparsing>=2.2.1 in c:\\users\\t-alehmann\\miniconda3\\envs\\qsharp-env\\lib\\site-packages (from matplotlib) (3.0.4)\n",
      "Requirement already satisfied: pillow>=6.2.0 in c:\\users\\t-alehmann\\miniconda3\\envs\\qsharp-env\\lib\\site-packages (from matplotlib) (9.1.1)\n",
      "Requirement already satisfied: aiohttp>=3.7.0 in c:\\users\\t-alehmann\\miniconda3\\envs\\qsharp-env\\lib\\site-packages (from azure-quantum[qiskit]) (3.8.1)\n",
      "Requirement already satisfied: aiofile>=3.7.2 in c:\\users\\t-alehmann\\miniconda3\\envs\\qsharp-env\\lib\\site-packages (from azure-quantum[qiskit]) (3.7.4)\n",
      "Requirement already satisfied: azure-storage-blob>=12.8.1 in c:\\users\\t-alehmann\\miniconda3\\envs\\qsharp-env\\lib\\site-packages (from azure-quantum[qiskit]) (12.12.0)\n",
      "Requirement already satisfied: azure-identity>=1.6.0 in c:\\users\\t-alehmann\\miniconda3\\envs\\qsharp-env\\lib\\site-packages (from azure-quantum[qiskit]) (1.10.0)\n",
      "Requirement already satisfied: azure-core>=1.19.1 in c:\\users\\t-alehmann\\miniconda3\\envs\\qsharp-env\\lib\\site-packages (from azure-quantum[qiskit]) (1.24.1)\n",
      "Requirement already satisfied: deprecated>=1.2.12 in c:\\users\\t-alehmann\\miniconda3\\envs\\qsharp-env\\lib\\site-packages (from azure-quantum[qiskit]) (1.2.13)\n",
      "Requirement already satisfied: msrest>=0.6.21 in c:\\users\\t-alehmann\\miniconda3\\envs\\qsharp-env\\lib\\site-packages (from azure-quantum[qiskit]) (0.7.1)\n",
      "Requirement already satisfied: protobuf<4.0,>=3.14.0 in c:\\users\\t-alehmann\\miniconda3\\envs\\qsharp-env\\lib\\site-packages (from azure-quantum[qiskit]) (3.20.1)\n",
      "Requirement already satisfied: qiskit-qir>=0.1.0b8 in c:\\users\\t-alehmann\\miniconda3\\envs\\qsharp-env\\lib\\site-packages (from azure-quantum[qiskit]) (0.1.0b12)\n",
      "Requirement already satisfied: qiskit-ionq>=0.1.4 in c:\\users\\t-alehmann\\miniconda3\\envs\\qsharp-env\\lib\\site-packages (from azure-quantum[qiskit]) (0.3.3)\n",
      "Requirement already satisfied: caio~=0.9.0 in c:\\users\\t-alehmann\\miniconda3\\envs\\qsharp-env\\lib\\site-packages (from aiofile>=3.7.2->azure-quantum[qiskit]) (0.9.5)\n",
      "Requirement already satisfied: attrs>=17.3.0 in c:\\users\\t-alehmann\\miniconda3\\envs\\qsharp-env\\lib\\site-packages (from aiohttp>=3.7.0->azure-quantum[qiskit]) (21.4.0)\n",
      "Requirement already satisfied: async-timeout<5.0,>=4.0.0a3 in c:\\users\\t-alehmann\\miniconda3\\envs\\qsharp-env\\lib\\site-packages (from aiohttp>=3.7.0->azure-quantum[qiskit]) (4.0.2)\n",
      "Requirement already satisfied: charset-normalizer<3.0,>=2.0 in c:\\users\\t-alehmann\\appdata\\roaming\\python\\python39\\site-packages (from aiohttp>=3.7.0->azure-quantum[qiskit]) (2.0.12)\n",
      "Requirement already satisfied: aiosignal>=1.1.2 in c:\\users\\t-alehmann\\miniconda3\\envs\\qsharp-env\\lib\\site-packages (from aiohttp>=3.7.0->azure-quantum[qiskit]) (1.2.0)\n",
      "Requirement already satisfied: yarl<2.0,>=1.0 in c:\\users\\t-alehmann\\miniconda3\\envs\\qsharp-env\\lib\\site-packages (from aiohttp>=3.7.0->azure-quantum[qiskit]) (1.7.2)\n",
      "Requirement already satisfied: frozenlist>=1.1.1 in c:\\users\\t-alehmann\\miniconda3\\envs\\qsharp-env\\lib\\site-packages (from aiohttp>=3.7.0->azure-quantum[qiskit]) (1.3.0)\n",
      "Requirement already satisfied: multidict<7.0,>=4.5 in c:\\users\\t-alehmann\\miniconda3\\envs\\qsharp-env\\lib\\site-packages (from aiohttp>=3.7.0->azure-quantum[qiskit]) (6.0.2)\n",
      "Requirement already satisfied: six>=1.11.0 in c:\\users\\t-alehmann\\miniconda3\\envs\\qsharp-env\\lib\\site-packages (from azure-core>=1.19.1->azure-quantum[qiskit]) (1.16.0)\n",
      "Requirement already satisfied: typing-extensions>=4.0.1 in c:\\users\\t-alehmann\\miniconda3\\envs\\qsharp-env\\lib\\site-packages (from azure-core>=1.19.1->azure-quantum[qiskit]) (4.1.1)\n",
      "Requirement already satisfied: cryptography>=2.5 in c:\\users\\t-alehmann\\appdata\\roaming\\python\\python39\\site-packages (from azure-identity>=1.6.0->azure-quantum[qiskit]) (37.0.2)\n",
      "Requirement already satisfied: msal<2.0.0,>=1.12.0 in c:\\users\\t-alehmann\\miniconda3\\envs\\qsharp-env\\lib\\site-packages (from azure-identity>=1.6.0->azure-quantum[qiskit]) (1.18.0)\n",
      "Requirement already satisfied: msal-extensions<2.0.0,>=0.3.0 in c:\\users\\t-alehmann\\miniconda3\\envs\\qsharp-env\\lib\\site-packages (from azure-identity>=1.6.0->azure-quantum[qiskit]) (1.0.0)\n",
      "Requirement already satisfied: cffi>=1.12 in c:\\users\\t-alehmann\\miniconda3\\envs\\qsharp-env\\lib\\site-packages (from cryptography>=2.5->azure-identity>=1.6.0->azure-quantum[qiskit]) (1.15.0)\n",
      "Requirement already satisfied: pycparser in c:\\users\\t-alehmann\\miniconda3\\envs\\qsharp-env\\lib\\site-packages (from cffi>=1.12->cryptography>=2.5->azure-identity>=1.6.0->azure-quantum[qiskit]) (2.21)\n",
      "Requirement already satisfied: wrapt<2,>=1.10 in c:\\users\\t-alehmann\\miniconda3\\envs\\qsharp-env\\lib\\site-packages (from deprecated>=1.2.12->azure-quantum[qiskit]) (1.14.1)\n",
      "Requirement already satisfied: PyJWT[crypto]<3,>=1.0.0 in c:\\users\\t-alehmann\\miniconda3\\envs\\qsharp-env\\lib\\site-packages (from msal<2.0.0,>=1.12.0->azure-identity>=1.6.0->azure-quantum[qiskit]) (2.4.0)\n",
      "Requirement already satisfied: portalocker<3,>=1.6 in c:\\users\\t-alehmann\\miniconda3\\envs\\qsharp-env\\lib\\site-packages (from msal-extensions<2.0.0,>=0.3.0->azure-identity>=1.6.0->azure-quantum[qiskit]) (2.4.0)\n",
      "Requirement already satisfied: requests-oauthlib>=0.5.0 in c:\\users\\t-alehmann\\miniconda3\\envs\\qsharp-env\\lib\\site-packages (from msrest>=0.6.21->azure-quantum[qiskit]) (1.3.1)\n",
      "Requirement already satisfied: certifi>=2017.4.17 in c:\\users\\t-alehmann\\miniconda3\\envs\\qsharp-env\\lib\\site-packages (from msrest>=0.6.21->azure-quantum[qiskit]) (2022.5.18.1)\n",
      "Requirement already satisfied: isodate>=0.6.0 in c:\\users\\t-alehmann\\miniconda3\\envs\\qsharp-env\\lib\\site-packages (from msrest>=0.6.21->azure-quantum[qiskit]) (0.6.1)\n",
      "Requirement already satisfied: pywin32>=226 in c:\\users\\t-alehmann\\miniconda3\\envs\\qsharp-env\\lib\\site-packages (from portalocker<3,>=1.6->msal-extensions<2.0.0,>=0.3.0->azure-identity>=1.6.0->azure-quantum[qiskit]) (302)\n",
      "Requirement already satisfied: decorator>=5.1.0 in c:\\users\\t-alehmann\\miniconda3\\envs\\qsharp-env\\lib\\site-packages (from qiskit-ionq>=0.1.4->azure-quantum[qiskit]) (5.1.1)\n",
      "Requirement already satisfied: retry>=0.9.0 in c:\\users\\t-alehmann\\miniconda3\\envs\\qsharp-env\\lib\\site-packages (from qiskit-ionq>=0.1.4->azure-quantum[qiskit]) (0.9.2)\n",
      "Requirement already satisfied: pyqir-generator==0.4.2a1 in c:\\users\\t-alehmann\\miniconda3\\envs\\qsharp-env\\lib\\site-packages (from qiskit-qir>=0.1.0b8->azure-quantum[qiskit]) (0.4.2a1)\n",
      "Requirement already satisfied: idna<4,>=2.5 in c:\\users\\t-alehmann\\appdata\\roaming\\python\\python39\\site-packages (from requests>=2.19->qiskit-ibmq-provider==0.19.1->qiskit) (3.3)\n",
      "Requirement already satisfied: ntlm-auth>=1.0.2 in c:\\users\\t-alehmann\\appdata\\roaming\\python\\python39\\site-packages (from requests-ntlm>=1.1.0->qiskit-ibmq-provider==0.19.1->qiskit) (1.5.0)\n",
      "Requirement already satisfied: oauthlib>=3.0.0 in c:\\users\\t-alehmann\\miniconda3\\envs\\qsharp-env\\lib\\site-packages (from requests-oauthlib>=0.5.0->msrest>=0.6.21->azure-quantum[qiskit]) (3.2.0)\n",
      "Requirement already satisfied: py<2.0.0,>=1.4.26 in c:\\users\\t-alehmann\\miniconda3\\envs\\qsharp-env\\lib\\site-packages (from retry>=0.9.0->qiskit-ionq>=0.1.4->azure-quantum[qiskit]) (1.11.0)\n",
      "Requirement already satisfied: pbr!=2.1.0,>=2.0.0 in c:\\users\\t-alehmann\\appdata\\roaming\\python\\python39\\site-packages (from stevedore>=3.0.0->qiskit-terra==0.20.2->qiskit) (5.9.0)\n",
      "Requirement already satisfied: mpmath>=0.19 in c:\\users\\t-alehmann\\appdata\\roaming\\python\\python39\\site-packages (from sympy>=1.3->qiskit-terra==0.20.2->qiskit) (1.2.1)\n",
      "Note: you may need to restart the kernel to use updated packages.\n"
     ]
    }
   ],
   "source": [
    "%pip install qiskit matplotlib azure-quantum[qiskit]"
   ]
  },
  {
   "cell_type": "code",
   "execution_count": 2,
   "metadata": {},
   "outputs": [],
   "source": [
    "from qiskit import *"
   ]
  },
  {
   "cell_type": "markdown",
   "metadata": {},
   "source": [
    "\n",
    "$\\providecommand{\\ket}[1]{\\left|#1\\right\\rangle}$\n",
    "$\\providecommand{\\bra}[1]{\\left\\langle#1\\right|}$\n",
    "\n",
    "In this sample we will be looking at using quantum teleportation on Azure Quantum.\n",
    "\n",
    "To refresh our mind let us review how quantum teleportation works.\n",
    "\n",
    "We have two parties, Alice and Bob, they would like to share information, and they have an entangled state (usually the Bell state $\\frac{1}{\\sqrt{2}} (\\ket{00} + \\ket{11})$). \n",
    "If Alice now wishes to transfer quantum information, she will entangle some payload with her qubit and measure her qubit and payload.She will transmit the results of the measurement to Bob, who can use them to reconstruct Alice's payload on his entangled qubit.\n",
    "\n",
    "In the following code we will implement this operation."
   ]
  },
  {
   "cell_type": "code",
   "execution_count": 3,
   "metadata": {},
   "outputs": [],
   "source": [
    "def create_bell_state():\n",
    "    (alice, bob) = (QuantumRegister(1), QuantumRegister(1))\n",
    "    qc = QuantumCircuit(alice, bob)\n",
    "    qc.name = 'create_bell_state'\n",
    "    qc.h(alice)\n",
    "    qc.cx(alice, bob)\n",
    "    return qc.to_instruction()\n",
    "\n",
    "\n",
    "def send():\n",
    "    (alice, payload) = (QuantumRegister(1), QuantumRegister(1))\n",
    "    (cr_x, cr_z) = (ClassicalRegister(1), ClassicalRegister(1))\n",
    "    qc = QuantumCircuit(alice, payload, cr_x, cr_z)\n",
    "    qc.name = 'send'\n",
    "    qc.cx(payload, alice)\n",
    "    qc.h(payload)\n",
    "    qc.measure(alice, cr_x)\n",
    "    qc.measure(payload, cr_z)\n",
    "    return qc.to_instruction()\n",
    "\n",
    "\n",
    "def recv(qc: QuantumCircuit, bob: QuantumRegister, cr_x: ClassicalRegister, cr_z: ClassicalRegister):\n",
    "    qc.x(bob).c_if(cr_x, 1);\n",
    "    qc.z(bob).c_if(cr_z, 1);"
   ]
  },
  {
   "cell_type": "markdown",
   "metadata": {},
   "source": [
    "We will now use Qiskit's visualization tools to look show the Unitary responsible from creating the Bell State.\n",
    "Showing operations is a great way to check whether your implementation is mathematically correct."
   ]
  },
  {
   "cell_type": "code",
   "execution_count": 4,
   "metadata": {},
   "outputs": [],
   "source": [
    "def create_teleport_circuit_base():\n",
    "    (alice, bob, payload) = (QuantumRegister(1, 'alice'), QuantumRegister(1,'bob'), QuantumRegister(1,'payload'))\n",
    "    (cr_x, cr_z, res) = (ClassicalRegister(1, 'cr_x'), ClassicalRegister(1, 'cr_z'), ClassicalRegister(1, 'res'))\n",
    "    return (QuantumCircuit(alice, bob, payload, cr_x, cr_z, res), alice, bob, payload, cr_x, cr_z, res)"
   ]
  },
  {
   "cell_type": "code",
   "execution_count": 5,
   "metadata": {},
   "outputs": [
    {
     "name": "stdout",
     "output_type": "stream",
     "text": [
      "[[ 0.707+0.j  0.707-0.j  0.   +0.j  0.   +0.j]\n",
      " [ 0.   +0.j  0.   +0.j  0.707+0.j -0.707+0.j]\n",
      " [ 0.   +0.j  0.   +0.j  0.707+0.j  0.707-0.j]\n",
      " [ 0.707+0.j -0.707+0.j  0.   +0.j  0.   +0.j]]\n"
     ]
    }
   ],
   "source": [
    "from qiskit import Aer\n",
    "\n",
    "alice = QuantumRegister(1, 'alice')\n",
    "bob = QuantumRegister(1, 'bob')\n",
    "qc = QuantumCircuit(alice, bob)\n",
    "qc.append(create_bell_state(), [alice, bob])\n",
    "\n",
    "backend = Aer.get_backend('unitary_simulator')\n",
    "\n",
    "job = execute(qc, backend)\n",
    "result = job.result()\n",
    "\n",
    "print(result.get_unitary(qc, decimals=3).data)\n"
   ]
  },
  {
   "cell_type": "markdown",
   "metadata": {},
   "source": [
    "Below we will now verify that our teleportation does indeed work correctly.\n",
    "\n",
    "We will be visualizing our circuit using Qiskit's tools to manually introspect it for correctness."
   ]
  },
  {
   "cell_type": "code",
   "execution_count": 6,
   "metadata": {},
   "outputs": [
    {
     "name": "stderr",
     "output_type": "stream",
     "text": [
      "C:\\Users\\t-alehmann\\AppData\\Roaming\\Python\\Python39\\site-packages\\qiskit\\visualization\\text.py:717: RuntimeWarning: The parameter \"cregbundle\" was disabled, since an instruction needs to refer to individual classical wires\n",
      "  return \"\\n\".join(self.lines()).encode(self.encoding).decode(self.encoding)\n"
     ]
    },
    {
     "data": {
      "text/html": [
       "<pre style=\"word-wrap: normal;white-space: pre;background: #fff0;line-height: 1.1;font-family: &quot;Courier New&quot;,Courier,monospace\">         ┌────────────────────┐ ░ ┌───────┐          \n",
       "  alice: ┤0                   ├─░─┤0      ├──────────\n",
       "         │  create_bell_state │ ░ │       │┌───┐┌───┐\n",
       "    bob: ┤1                   ├─░─┤       ├┤ X ├┤ Z ├\n",
       "         └────────────────────┘ ░ │       │└─╥─┘└─╥─┘\n",
       "payload: ───────────────────────░─┤1 send ├──╫────╫──\n",
       "                                ░ │       │  ║    ║  \n",
       "   cr_x: ═════════════════════════╡0      ╞══■════╬══\n",
       "                                  │       │ 0x1   ║  \n",
       "   cr_z: ═════════════════════════╡1      ╞═══════■══\n",
       "                                  └───────┘      0x1 \n",
       "    res: ════════════════════════════════════════════\n",
       "                                                     </pre>"
      ],
      "text/plain": [
       "         ┌────────────────────┐ ░ ┌───────┐          \n",
       "  alice: ┤0                   ├─░─┤0      ├──────────\n",
       "         │  create_bell_state │ ░ │       │┌───┐┌───┐\n",
       "    bob: ┤1                   ├─░─┤       ├┤ X ├┤ Z ├\n",
       "         └────────────────────┘ ░ │       │└─╥─┘└─╥─┘\n",
       "payload: ───────────────────────░─┤1 send ├──╫────╫──\n",
       "                                ░ │       │  ║    ║  \n",
       "   cr_x: ═════════════════════════╡0      ╞══■════╬══\n",
       "                                  │       │ 0x1   ║  \n",
       "   cr_z: ═════════════════════════╡1      ╞═══════■══\n",
       "                                  └───────┘      0x1 \n",
       "    res: ════════════════════════════════════════════\n",
       "                                                     "
      ]
     },
     "execution_count": 6,
     "metadata": {},
     "output_type": "execute_result"
    }
   ],
   "source": [
    "def perform_teleportation_on_bell_state(qc : QuantumCircuit, \n",
    "                                        alice: QuantumRegister, bob: QuantumRegister, payload: QuantumRegister, \n",
    "                                        cr_x: ClassicalRegister, cr_z: ClassicalRegister):\n",
    "    qc.append(send(), [alice, payload], [cr_x, cr_z])\n",
    "    recv(qc, bob, cr_x, cr_z)\n",
    "    return qc\n",
    "\n",
    "def create_full_teleport_circuit():\n",
    "    (qc, alice, bob, payload, cr_x, cr_z, _) = create_teleport_circuit_base()\n",
    "\n",
    "    qc.append(create_bell_state(), [alice, bob])\n",
    "    qc.barrier()\n",
    "    perform_teleportation_on_bell_state(qc, alice, bob, payload, cr_x, cr_z)\n",
    "    return qc\n",
    "\n",
    "\n",
    "create_full_teleport_circuit().draw(fold=-1)"
   ]
  },
  {
   "cell_type": "markdown",
   "metadata": {},
   "source": [
    "We will now simulate our code and see that we manage to teleport our payload correctly.\n",
    "For this Alice rotates the payload at an unusual angle and make sure that the adjoint rotation resets Bob's qubit to $\\ket{0}$ making the overall state of the system $\\ket{000}$."
   ]
  },
  {
   "cell_type": "code",
   "execution_count": 7,
   "metadata": {},
   "outputs": [],
   "source": [
    "from qiskit.tools.visualization import plot_histogram\n",
    "\n",
    "(qc_prep, alice, bob, payload, cr_x, cr_z, res) = create_teleport_circuit_base()\n",
    "qc_prep.ry(0.2791, payload)\n",
    "\n",
    "(qc_meas, alice, bob, payload, cr_x, cr_z, res) = create_teleport_circuit_base()\n",
    "qc_meas.ry(-0.2791, bob)\n",
    "qc_meas.measure(bob, res)\n",
    "# Reset cr_x cr_z qubits to clean up ouput\n",
    "qc_meas.reset(payload)\n",
    "qc_meas.measure(payload, cr_x)\n",
    "qc_meas.measure(payload, cr_z)\n",
    "\n",
    "qc = qc_prep + create_full_teleport_circuit() + qc_meas\n",
    "\n",
    "simulator = Aer.get_backend('aer_simulator')\n",
    "\n",
    "qc_t = transpile(qc, simulator)\n",
    "result = simulator.run(qc_t, shots=500).result()\n",
    "counts = result.get_counts(qc_t)\n",
    "plot_histogram(counts, title=\"Bob's qubit state\")"
   ]
  },
  {
   "cell_type": "markdown",
   "metadata": {},
   "source": [
    "Seeing empirically that our teleportation works, we can proceed to run it on hardware and measure the fidelity.\n",
    "\n",
    "\n",
    "As a first step we need to set up our Azure Quantum provider and see the backends it offers."
   ]
  },
  {
   "cell_type": "code",
   "execution_count": 12,
   "metadata": {},
   "outputs": [
    {
     "name": "stdout",
     "output_type": "stream",
     "text": [
      "['ionq.qpu', 'ionq.simulator', 'quantinuum.hqs-lt-s1', 'quantinuum.hqs-lt-s1-apival', 'quantinuum.hqs-lt-s2', 'quantinuum.hqs-lt-s2-apival', 'quantinuum.hqs-lt-s1-sim', 'quantinuum.hqs-lt-s2-sim']\n"
     ]
    }
   ],
   "source": [
    "from qiskit.tools.monitor import job_monitor\n",
    "from azure.quantum.qiskit import AzureQuantumProvider"
   ]
  },
  {
   "cell_type": "code",
   "execution_count": null,
   "metadata": {},
   "outputs": [],
   "source": [
    "provider = AzureQuantumProvider(\n",
    "  resource_id=\"\",\n",
    "  location=\"\"\n",
    ")"
   ]
  },
  {
   "cell_type": "code",
   "execution_count": null,
   "metadata": {},
   "outputs": [],
   "source": [
    "print([backend.name() for backend in provider.backends()])"
   ]
  },
  {
   "cell_type": "markdown",
   "metadata": {},
   "source": [
    "When running jobs on Azure Quantum, before going to real hardware it is recommended to run your code through a validator to make sure you don't waste precious resources on faulty code. `quantinuum.hqs-lt-s2-apival` is the appropriate target for this.\n",
    "\n",
    "\n",
    "We now transpile our code for the target and run it for validation. For this we create a job, submit it, then monitor it using `job_monitor` (a function that blocks execution until execution of the job is complete) and proceed to introspect the results"
   ]
  },
  {
   "cell_type": "code",
   "execution_count": 13,
   "metadata": {},
   "outputs": [
    {
     "name": "stdout",
     "output_type": "stream",
     "text": [
      "Job id ea87415f-256d-11ed-92be-dc215ca5fadb\n"
     ]
    }
   ],
   "source": [
    "validator_backend = provider.get_backend(\"quantinuum.hqs-lt-s2-apival\")\n",
    "qc_t = transpile(qc, validator_backend)\n",
    "job = validator_backend.run(qc_t, job_name=\"Validate Entanglement Swapping\")\n",
    "job_id = job.id()\n",
    "print(\"Job id\", job_id)\n"
   ]
  },
  {
   "cell_type": "code",
   "execution_count": 14,
   "metadata": {},
   "outputs": [
    {
     "name": "stdout",
     "output_type": "stream",
     "text": [
      "Job Status: job has successfully run\n"
     ]
    }
   ],
   "source": [
    "job_monitor(job)\n"
   ]
  },
  {
   "cell_type": "code",
   "execution_count": 20,
   "metadata": {},
   "outputs": [
    {
     "name": "stdout",
     "output_type": "stream",
     "text": [
      "API Validation succeeded!\n"
     ]
    }
   ],
   "source": [
    "result = job.result()\n",
    "if not result.success:\n",
    "    raise Exception(\"API validation Failed\")\n",
    "print(\"API validation succeeded!\")\n"
   ]
  },
  {
   "cell_type": "markdown",
   "metadata": {},
   "source": [
    "Now with the confidence that our job will work we can submit it to the simulator.  The Quantinuum emulator provided by Azure Quantum differs from the simulator running locally, in that it accurately models noise and behavior of the Quantinuum quantum computer."
   ]
  },
  {
   "cell_type": "code",
   "execution_count": null,
   "metadata": {},
   "outputs": [],
   "source": [
    "sim_backend = provider.get_backend(\"quantinuum.hqs-lt-s2-sim\")\n",
    "qc_t = transpile(qc, validator_backend, job_name=\"Simulate Entanglement Swapping\")\n",
    "job = sim_backend.run(qc_t)\n",
    "job_id = job.id()\n",
    "print(\"Job id\", job_id)"
   ]
  },
  {
   "cell_type": "code",
   "execution_count": null,
   "metadata": {},
   "outputs": [],
   "source": [
    "job_monitor(job)\n"
   ]
  },
  {
   "cell_type": "code",
   "execution_count": null,
   "metadata": {},
   "outputs": [],
   "source": [
    "result = job.result()\n",
    "print(result)\n"
   ]
  },
  {
   "cell_type": "code",
   "execution_count": null,
   "metadata": {},
   "outputs": [],
   "source": [
    "counts = {format(n, \"03b\"): 0 for n in range(8)}\n",
    "counts.update(result.get_counts(qc_t))\n",
    "print(counts)\n",
    "plot_histogram(counts)"
   ]
  },
  {
   "cell_type": "markdown",
   "metadata": {},
   "source": [
    "We see that while quite good, we do get some noise from running our code on the emulator that accurately mimics a quantum device. With larger circuits such as the ones below this problem will only get worse.\n",
    "\n",
    "Let us now enhance our code by building entanglement swapping. The idea of entanglement swapping is that if Alice and Bob do not have a direct connection but connections to third parties such that a path exists, then each pair of adjacent parties can create Bell states and teleport Alice's second qubit along this path until it reaches Bob.\n",
    "\n",
    "First we build the base case of entanglement swapping `entanglement_swap_3`, then we proceed to build the general case `entanglement_swap_n`"
   ]
  },
  {
   "cell_type": "code",
   "execution_count": 21,
   "metadata": {},
   "outputs": [
    {
     "name": "stderr",
     "output_type": "stream",
     "text": [
      "C:\\Users\\t-alehmann\\AppData\\Roaming\\Python\\Python39\\site-packages\\qiskit\\visualization\\text.py:717: RuntimeWarning: The parameter \"cregbundle\" was disabled, since an instruction needs to refer to individual classical wires\n",
      "  return \"\\n\".join(self.lines()).encode(self.encoding).decode(self.encoding)\n"
     ]
    },
    {
     "data": {
      "text/html": [
       "<pre style=\"word-wrap: normal;white-space: pre;background: #fff0;line-height: 1.1;font-family: &quot;Courier New&quot;,Courier,monospace\">      ┌────────────────────┐ ░                     ░ ┌─┐   \n",
       "qc_0: ┤0                   ├─░─────────────────────░─┤M├───\n",
       "      │  create_bell_state │ ░ ┌───────┐           ░ └╥┘   \n",
       "qc_1: ┤1                   ├─░─┤1      ├───────────░──╫────\n",
       "      ├────────────────────┤ ░ │       │           ░  ║    \n",
       "qc_2: ┤0                   ├─░─┤0      ├───────────░──╫────\n",
       "      │  create_bell_state │ ░ │       │┌───┐┌───┐ ░  ║ ┌─┐\n",
       "qc_3: ┤1                   ├─░─┤  send ├┤ X ├┤ Z ├─░──╫─┤M├\n",
       "      └────────────────────┘ ░ │       │└─╥─┘└─╥─┘ ░  ║ └╥┘\n",
       "c8_0: ═════════════════════════╡0      ╞══■════╬══════╩══╬═\n",
       "                               │       │       ║         ║ \n",
       "c8_1: ═════════════════════════╡1      ╞═══════■═════════╩═\n",
       "                               └───────┘                   </pre>"
      ],
      "text/plain": [
       "      ┌────────────────────┐ ░                     ░ ┌─┐   \n",
       "qc_0: ┤0                   ├─░─────────────────────░─┤M├───\n",
       "      │  create_bell_state │ ░ ┌───────┐           ░ └╥┘   \n",
       "qc_1: ┤1                   ├─░─┤1      ├───────────░──╫────\n",
       "      ├────────────────────┤ ░ │       │           ░  ║    \n",
       "qc_2: ┤0                   ├─░─┤0      ├───────────░──╫────\n",
       "      │  create_bell_state │ ░ │       │┌───┐┌───┐ ░  ║ ┌─┐\n",
       "qc_3: ┤1                   ├─░─┤  send ├┤ X ├┤ Z ├─░──╫─┤M├\n",
       "      └────────────────────┘ ░ │       │└─╥─┘└─╥─┘ ░  ║ └╥┘\n",
       "c8_0: ═════════════════════════╡0      ╞══■════╬══════╩══╬═\n",
       "                               │       │       ║         ║ \n",
       "c8_1: ═════════════════════════╡1      ╞═══════■═════════╩═\n",
       "                               └───────┘                   "
      ]
     },
     "execution_count": 21,
     "metadata": {},
     "output_type": "execute_result"
    }
   ],
   "source": [
    "def entanglement_swap_3(): \n",
    "    qc = QuantumCircuit(QuantumRegister(4, 'qc'), ClassicalRegister(2))\n",
    "    qc.append(create_bell_state(), [0, 1])\n",
    "    qc.append(create_bell_state(), [2, 3])\n",
    "    qc.barrier()\n",
    "    perform_teleportation_on_bell_state(qc, 2, 3, 1, 0, 1)\n",
    "    qc.barrier()\n",
    "    # Measure bell state in classical registers\n",
    "    qc.measure(0, 0)\n",
    "    qc.measure(3, 1)\n",
    "    return qc\n",
    "\n",
    "\n",
    "entanglement_swap_3().draw(fold=-1)"
   ]
  },
  {
   "cell_type": "markdown",
   "metadata": {},
   "source": [
    "We will now simulate our entanglement swapping and see that our output is evenly (up to statistical error due to limited shots) split between $\\ket{00}$ and $\\ket{11}$, showing us that in the end Alice and Bob have a bell state shared between them."
   ]
  },
  {
   "cell_type": "code",
   "execution_count": 22,
   "metadata": {},
   "outputs": [
    {
     "data": {
      "image/png": "[encoded data removed]",
      "text/plain": [
       "<Figure size 504x360 with 1 Axes>"
      ]
     },
     "execution_count": 22,
     "metadata": {},
     "output_type": "execute_result"
    }
   ],
   "source": [
    "qc = entanglement_swap_3()\n",
    "\n",
    "simulator = Aer.get_backend('aer_simulator')\n",
    "\n",
    "qc = transpile(qc, simulator)\n",
    "result = simulator.run(qc, shots=500).result()\n",
    "counts = result.get_counts(qc)\n",
    "plot_histogram(counts, title='Alice <-> Bob Bell State')"
   ]
  },
  {
   "cell_type": "markdown",
   "metadata": {},
   "source": [
    "Let us now generalize this and build an entanglement swapping circuit for any number for qubits."
   ]
  },
  {
   "cell_type": "code",
   "execution_count": 23,
   "metadata": {},
   "outputs": [
    {
     "data": {
      "text/html": [
       "<pre style=\"word-wrap: normal;white-space: pre;background: #fff0;line-height: 1.1;font-family: &quot;Courier New&quot;,Courier,monospace\">      ┌────────────────────┐ ░                     ░                     ░                     ░ ┌─┐   \n",
       "qc_0: ┤0                   ├─░─────────────────────░─────────────────────░─────────────────────░─┤M├───\n",
       "      │  create_bell_state │ ░ ┌───────┐           ░                     ░                     ░ └╥┘   \n",
       "qc_1: ┤1                   ├─░─┤1      ├───────────░─────────────────────░─────────────────────░──╫────\n",
       "      ├────────────────────┤ ░ │       │           ░                     ░                     ░  ║    \n",
       "qc_2: ┤0                   ├─░─┤0      ├───────────░─────────────────────░─────────────────────░──╫────\n",
       "      │  create_bell_state │ ░ │       │┌───┐┌───┐ ░ ┌───────┐           ░                     ░  ║    \n",
       "qc_3: ┤1                   ├─░─┤       ├┤ X ├┤ Z ├─░─┤1      ├───────────░─────────────────────░──╫────\n",
       "      ├────────────────────┤ ░ │       │└─╥─┘└─╥─┘ ░ │       │           ░                     ░  ║    \n",
       "qc_4: ┤0                   ├─░─┤       ├──╫────╫───░─┤0      ├───────────░─────────────────────░──╫────\n",
       "      │  create_bell_state │ ░ │       │  ║    ║   ░ │       │┌───┐┌───┐ ░ ┌───────┐           ░  ║    \n",
       "qc_5: ┤1                   ├─░─┤  send ├──╫────╫───░─┤       ├┤ X ├┤ Z ├─░─┤1      ├───────────░──╫────\n",
       "      ├────────────────────┤ ░ │       │  ║    ║   ░ │       │└─╥─┘└─╥─┘ ░ │       │           ░  ║    \n",
       "qc_6: ┤0                   ├─░─┤       ├──╫────╫───░─┤  send ├──╫────╫───░─┤0      ├───────────░──╫────\n",
       "      │  create_bell_state │ ░ │       │  ║    ║   ░ │       │  ║    ║   ░ │       │┌───┐┌───┐ ░  ║ ┌─┐\n",
       "qc_7: ┤1                   ├─░─┤       ├──╫────╫───░─┤       ├──╫────╫───░─┤  send ├┤ X ├┤ Z ├─░──╫─┤M├\n",
       "      └────────────────────┘ ░ │       │  ║    ║   ░ │       │  ║    ║   ░ │       │└─╥─┘└─╥─┘ ░  ║ └╥┘\n",
       " cr1: ═════════════════════════╡0      ╞══■════╬═════╡0      ╞══■════╬═════╡0      ╞══■════╬══════╩══╬═\n",
       "                               │       │ 0x1   ║     │       │ 0x1   ║     │       │ 0x1   ║         ║ \n",
       " cr2: ═════════════════════════╡1      ╞═══════■═════╡1      ╞═══════■═════╡1      ╞═══════■═════════╩═\n",
       "                               └───────┘      0x1    └───────┘      0x1    └───────┘      0x1          </pre>"
      ],
      "text/plain": [
       "      ┌────────────────────┐ ░                     ░                     ░                     ░ ┌─┐   \n",
       "qc_0: ┤0                   ├─░─────────────────────░─────────────────────░─────────────────────░─┤M├───\n",
       "      │  create_bell_state │ ░ ┌───────┐           ░                     ░                     ░ └╥┘   \n",
       "qc_1: ┤1                   ├─░─┤1      ├───────────░─────────────────────░─────────────────────░──╫────\n",
       "      ├────────────────────┤ ░ │       │           ░                     ░                     ░  ║    \n",
       "qc_2: ┤0                   ├─░─┤0      ├───────────░─────────────────────░─────────────────────░──╫────\n",
       "      │  create_bell_state │ ░ │       │┌───┐┌───┐ ░ ┌───────┐           ░                     ░  ║    \n",
       "qc_3: ┤1                   ├─░─┤       ├┤ X ├┤ Z ├─░─┤1      ├───────────░─────────────────────░──╫────\n",
       "      ├────────────────────┤ ░ │       │└─╥─┘└─╥─┘ ░ │       │           ░                     ░  ║    \n",
       "qc_4: ┤0                   ├─░─┤       ├──╫────╫───░─┤0      ├───────────░─────────────────────░──╫────\n",
       "      │  create_bell_state │ ░ │       │  ║    ║   ░ │       │┌───┐┌───┐ ░ ┌───────┐           ░  ║    \n",
       "qc_5: ┤1                   ├─░─┤  send ├──╫────╫───░─┤       ├┤ X ├┤ Z ├─░─┤1      ├───────────░──╫────\n",
       "      ├────────────────────┤ ░ │       │  ║    ║   ░ │       │└─╥─┘└─╥─┘ ░ │       │           ░  ║    \n",
       "qc_6: ┤0                   ├─░─┤       ├──╫────╫───░─┤  send ├──╫────╫───░─┤0      ├───────────░──╫────\n",
       "      │  create_bell_state │ ░ │       │  ║    ║   ░ │       │  ║    ║   ░ │       │┌───┐┌───┐ ░  ║ ┌─┐\n",
       "qc_7: ┤1                   ├─░─┤       ├──╫────╫───░─┤       ├──╫────╫───░─┤  send ├┤ X ├┤ Z ├─░──╫─┤M├\n",
       "      └────────────────────┘ ░ │       │  ║    ║   ░ │       │  ║    ║   ░ │       │└─╥─┘└─╥─┘ ░  ║ └╥┘\n",
       " cr1: ═════════════════════════╡0      ╞══■════╬═════╡0      ╞══■════╬═════╡0      ╞══■════╬══════╩══╬═\n",
       "                               │       │ 0x1   ║     │       │ 0x1   ║     │       │ 0x1   ║         ║ \n",
       " cr2: ═════════════════════════╡1      ╞═══════■═════╡1      ╞═══════■═════╡1      ╞═══════■═════════╩═\n",
       "                               └───────┘      0x1    └───────┘      0x1    └───────┘      0x1          "
      ]
     },
     "execution_count": 23,
     "metadata": {},
     "output_type": "execute_result"
    }
   ],
   "source": [
    "def entanglement_swap_n(nParties: int): \n",
    "    cr_x = ClassicalRegister(1, 'cr1')\n",
    "    cr_z = ClassicalRegister(1, 'cr2')\n",
    "    qc = QuantumCircuit(QuantumRegister(2 * nParties, 'qc'), cr_x, cr_z)\n",
    "    for i in range(nParties):\n",
    "        qc.append(create_bell_state(), [2 * i, 2 * i + 1])\n",
    "    qc.barrier()\n",
    "    for i in range(1, nParties):\n",
    "        perform_teleportation_on_bell_state(qc, 2 * i, 2 * i + 1, 2 * i - 1, cr_x, cr_z)\n",
    "        qc.barrier()\n",
    "    # Measure bell state in classical registers\n",
    "    qc.measure(0, cr_x)\n",
    "    qc.measure(2 * nParties - 1, cr_z)\n",
    "    return qc\n",
    "\n",
    "entanglement_swap_n(4).draw(fold=-1)"
   ]
  },
  {
   "cell_type": "markdown",
   "metadata": {},
   "source": [
    "We shall now test to see how fidelity changes with number of qubits. As our circuit includes mid-circuit measurements we will be running on Quantinuum hardware (/simulators) as they are the only current provider allowing such operations.\n",
    "\n",
    "We will first ensure correctness by running on a simulator and seeing the fidelity being 100%\n",
    "\n",
    "Then we will use Azure Quantum to run on Quantinuum targets"
   ]
  },
  {
   "cell_type": "code",
   "execution_count": 25,
   "metadata": {},
   "outputs": [],
   "source": [
    "import matplotlib.pyplot as plt"
   ]
  },
  {
   "cell_type": "code",
   "execution_count": 26,
   "metadata": {},
   "outputs": [
    {
     "data": {
      "image/png": "[encoded data removed]",
      "text/plain": [
       "<Figure size 432x288 with 1 Axes>"
      ]
     },
     "metadata": {
      "needs_background": "light"
     },
     "output_type": "display_data"
    }
   ],
   "source": [
    "all_results = dict()\n",
    "\n",
    "def get_fidelity(counts):\n",
    "    total = sum(counts.values())\n",
    "    return (counts['1 1'] + counts ['0 0']) / total * 100\n",
    "\n",
    "for i in range(4,20):\n",
    "    qc = entanglement_swap_n(i) \n",
    "\n",
    "    simulator = Aer.get_backend('aer_simulator')\n",
    "\n",
    "    qc_t = transpile(qc, simulator)\n",
    "    result = simulator.run(qc_t, shots=500).result()\n",
    "    counts = result.get_counts(qc_t)\n",
    "    all_results[i] = get_fidelity(counts)\n",
    "\n",
    "plt.bar(all_results.keys(), all_results.values())\n",
    "plt.title(\"Alice <-> Bob Bell State fidelity with n qubits SIMULATED\")\n",
    "plt.xlabel('n')\n",
    "plt.ylabel('Fidelity in %')\n",
    "plt.ylim([90,100])\n",
    "plt.show()"
   ]
  },
  {
   "cell_type": "markdown",
   "metadata": {},
   "source": [
    "Let us now validate our circuits again"
   ]
  },
  {
   "cell_type": "code",
   "execution_count": 27,
   "metadata": {},
   "outputs": [
    {
     "name": "stdout",
     "output_type": "stream",
     "text": [
      "2 parties uses 4 qubits\n",
      "3 parties uses 6 qubits\n",
      "4 parties uses 8 qubits\n",
      "5 parties uses 10 qubits\n",
      "6 parties uses 12 qubits\n",
      "7 parties uses 14 qubits\n"
     ]
    }
   ],
   "source": [
    "for i in range(2,8):\n",
    "    print(f\"{i} parties uses {entanglement_swap_n(i).num_qubits} qubits\")"
   ]
  },
  {
   "cell_type": "markdown",
   "metadata": {},
   "source": [
    "Since the quantinuum H1-2 has 12 qubits, we will limit our number of parties to $\\leq 6$"
   ]
  },
  {
   "cell_type": "code",
   "execution_count": 29,
   "metadata": {},
   "outputs": [
    {
     "name": "stdout",
     "output_type": "stream",
     "text": [
      "Validating entanglement swap with 2 parties\n",
      "Job Status: job has successfully run\n",
      "API validation succeeded for 2 parties!\n",
      "Validating entanglement swap with 3 parties\n",
      "Job Status: job has successfully run\n",
      "API validation succeeded for 3 parties!\n",
      "Validating entanglement swap with 4 parties\n",
      "Job Status: job has successfully run\n",
      "API validation succeeded for 4 parties!\n",
      "Validating entanglement swap with 5 parties\n",
      "Job Status: job has successfully run\n",
      "API validation succeeded for 5 parties!\n",
      "Validating entanglement swap with 6 parties\n",
      "Job Status: job has successfully run\n",
      "API validation succeeded for 6 parties!\n"
     ]
    }
   ],
   "source": [
    "for i in range(2, 7):\n",
    "    job_name = f\"Validating entanglement swap with {i} parties\"\n",
    "    print(job_name)\n",
    "    qc = entanglement_swap_n(i) \n",
    "    validator_backend = provider.get_backend(\"quantinuum.hqs-lt-s2-apival\")\n",
    "    qc_t = transpile(qc, validator_backend)\n",
    "    job = validator_backend.run(qc_t, job_name=job_name)\n",
    "    job_id = job.id()\n",
    "    job_monitor(job)\n",
    "    result = job.result()\n",
    "    if not result.success:\n",
    "        raise Exception(f\"API validation failed for {i} parties\")\n",
    "    print(f\"API validation succeeded for {i} parties!\")"
   ]
  },
  {
   "cell_type": "markdown",
   "metadata": {},
   "source": [
    "Now that we see all our circuits can be run correctly, let us now run them on simulators. We will name our circuits so that when submitted as jobs we will be able to identify them in the Azure Quantum job management to have insight into costs. **Please note that this sample makes use of paid services on Azure Quantum. The cost of running this sample with the provided parameters on Quantinuum in a free trial subscription is approximately 111EHQC. This quantity is only an approximate estimate and should not be used as a binding reference. The cost of the service might vary depending on your region, demand and other factors.** We have a write up of our results below if you want to save on the credits."
   ]
  },
  {
   "cell_type": "code",
   "execution_count": null,
   "metadata": {},
   "outputs": [],
   "source": [
    "all_results = dict()\n",
    "\n",
    "def get_fidelity(counts):\n",
    "    total = sum(counts.values())\n",
    "    return (counts['11'] + counts ['00']) / total * 100\n",
    "\n",
    "for i in range(2,7):\n",
    "    job_name=f\"Running entanglement swap with {i} parties\"\n",
    "    print(job_name)\n",
    "    qc = entanglement_swap_n(i) \n",
    "    validator_backend = provider.get_backend(\"quantinuum.hqs-lt-s2-sim\")\n",
    "    qc_t = transpile(qc, validator_backend)\n",
    "    qc_t.name = f\"Entanglement swap with {i} parties\"\n",
    "    job = validator_backend.run(qc_t, job_name=job_name)\n",
    "    job_id = job.id()\n",
    "    job_monitor(job)\n",
    "    result = job.result()\n",
    "    counts = result.get_counts(qc_t)\n",
    "    all_results[i] = get_fidelity(counts)\n",
    "\n",
    "plt.bar(all_results.keys(), all_results.values())\n",
    "plt.title(\"Alice <-> Bob Bell State fidelity with n parties on Quantinuum\")\n",
    "plt.xlabel('n')\n",
    "plt.ylabel('Fidelity in %')\n",
    "plt.ylim([90,100])\n",
    "plt.show()\n"
   ]
  },
  {
   "cell_type": "markdown",
   "metadata": {},
   "source": [
    "Let us look at the results we got. We show them in the figure below:\n"
   ]
  },
  {
   "cell_type": "markdown",
   "metadata": {},
   "source": [
    "<img src=\"data:image/png;base64,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\"/>\n"
   ]
  },
  {
   "cell_type": "markdown",
   "metadata": {},
   "source": [
    "As we can see, there is definitely some noise, and fidelities drop under 95%.\n",
    "While this might not seem like much, remember that our circuit is extremely small.\n",
    "This meaning that for larger examples which you can find in other notebooks this effect will be more pronounced.\n",
    "\n",
    "In the data we also see that (contrary to expectations) $n=5$ has worse fidelity than $n=6$. \n"
   ]
  }
 ],
 "metadata": {
  "kernelspec": {
   "display_name": "Python 3.9.12 ('qsharp-env')",
   "language": "python",
   "name": "python3"
  },
  "language_info": {
   "codemirror_mode": {
    "name": "ipython",
    "version": 3
   },
   "file_extension": ".py",
   "mimetype": "text/x-python",
   "name": "python",
   "nbconvert_exporter": "python",
   "pygments_lexer": "ipython3",
   "version": "3.9.12"
  },
  "orig_nbformat": 4,
  "vscode": {
   "interpreter": {
    "hash": "b4252e63e8a2fdb4c39caf2c09adc0e7447e3e9bad310da9108967fdc06c19c9"
   }
  }
 },
 "nbformat": 4,
 "nbformat_minor": 2
}
