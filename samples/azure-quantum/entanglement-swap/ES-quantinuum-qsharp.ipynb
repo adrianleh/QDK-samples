{
 "cells": [
  {
   "cell_type": "markdown",
   "metadata": {},
   "source": [
    "# Quantum Teleportation"
   ]
  },
  {
   "cell_type": "markdown",
   "metadata": {},
   "source": [
    "$\\providecommand{\\ket}[1]{\\left|#1\\right\\rangle}$\n",
    "$\\providecommand{\\bra}[1]{\\left\\langle#1\\right|}$\n",
    "\n",
    "In this sample we will be looking at using quantum teleportation on Azure Quantum.\n",
    "\n",
    "To refresh our mind let us review how quantum teleportation works.\n",
    "\n",
    "We have two parties, Alice and Bob, they would like to share information, and they have an entangled state (usually the Bell state $\\frac{1}{\\sqrt{2}} (\\ket{00} + \\ket{11})$). \n",
    "If Alice now wishes to transfer quantum information, she will entangle some payload with her qubit and measure her qubit and payload.She will transmit the results of the measurement to Bob, who can use them to reconstruct Alice's payload on his entangled qubit.\n",
    "\n",
    "In the following we code will implement this operation."
   ]
  },
  {
   "cell_type": "code",
   "execution_count": 1,
   "metadata": {},
   "outputs": [
    {
     "data": {
      "application/x-qsharp-data": "[]",
      "text/html": [
       "<ul></ul>"
      ],
      "text/plain": []
     },
     "execution_count": 1,
     "metadata": {},
     "output_type": "execute_result"
    }
   ],
   "source": [
    "open Microsoft.Quantum.Diagnostics;"
   ]
  },
  {
   "cell_type": "code",
   "execution_count": 2,
   "metadata": {},
   "outputs": [
    {
     "data": {
      "application/x-qsharp-data": "[\"CreateBellState\",\"Send\",\"Receive\"]",
      "text/html": [
       "<ul><li>CreateBellState</li><li>Send</li><li>Receive</li></ul>"
      ],
      "text/plain": [
       "CreateBellState, Send, Receive"
      ]
     },
     "execution_count": 2,
     "metadata": {},
     "output_type": "execute_result"
    }
   ],
   "source": [
    "operation CreateBellState(alice : Qubit, bob : Qubit) : Unit is Adj + Ctl {\n",
    "    H(alice);\n",
    "    CNOT(alice, bob);\n",
    "}\n",
    "\n",
    "operation Send(alice : Qubit, payload: Qubit) : (Result, Result) {\n",
    "    CNOT(payload, alice);\n",
    "    H(payload);\n",
    "    return (M(alice), M(payload));\n",
    "}\n",
    "\n",
    "operation Receive(bob : Qubit, (cr_x : Result, cr_z : Result)) : Unit {\n",
    "    if (cr_x == One) { X(bob); }\n",
    "    if (cr_z == One) { Z(bob); }\n",
    "}"
   ]
  },
  {
   "cell_type": "markdown",
   "metadata": {},
   "source": [
    "We will now use Q# visualization tools to show the unitary responsible from creating the Bell state.\n",
    "Printing unitary transformations implemented by operations is a great way to check whether your implementation is mathematically correct (for small operations)."
   ]
  },
  {
   "cell_type": "code",
   "execution_count": 3,
   "metadata": {},
   "outputs": [
    {
     "data": {
      "application/x-qsharp-data": "[\"ShowBellstate\",\"_b35e7070b5ea46b2bc578f8fd14a6602_ShowBellstate\"]",
      "text/html": [
       "<ul><li>ShowBellstate</li><li>_b35e7070b5ea46b2bc578f8fd14a6602_ShowBellstate</li></ul>"
      ],
      "text/plain": [
       "ShowBellstate, _b35e7070b5ea46b2bc578f8fd14a6602_ShowBellstate"
      ]
     },
     "execution_count": 3,
     "metadata": {},
     "output_type": "execute_result"
    }
   ],
   "source": [
    "operation ShowBellstate() : Unit {\n",
    "    DumpOperation(2, qubits => CreateBellState(qubits[0], qubits[1]));\n",
    "}"
   ]
  },
  {
   "cell_type": "code",
   "execution_count": 4,
   "metadata": {},
   "outputs": [
    {
     "data": {
      "application/x-qsharp-data": "{\"Qubits\":[{\"Probability\":0.5000000000000002,\"IsMeasured\":false,\"Id\":2,\"Qubits\":[]},{\"Probability\":0.5000000000000002,\"IsMeasured\":false,\"Id\":3,\"Qubits\":[]}],\"Data\":[0.7071067811865477,0.0,0.7071067811865477,0.0,0.0,0.0,0.0,0.0,0.0,0.0,0.0,0.0,0.7071067811865477,0.0,-0.7071067811865477,0.0,0.0,0.0,0.0,0.0,0.7071067811865477,0.0,0.7071067811865477,0.0,0.7071067811865477,0.0,-0.7071067811865477,0.0,0.0,0.0,0.0,0.0]}",
      "text/html": [
       "\r\n",
       "                    <table>\r\n",
       "                        <tr>\r\n",
       "                            <th>Qubit IDs</th>\r\n",
       "                            <td>2, 3\r\n",
       "                        </tr>\r\n",
       "\r\n",
       "                        <tr>\r\n",
       "                            <th>Unitary representation</th>\r\n",
       "                            <td>$$\r\n",
       "                                \\left(\\begin{matrix}\r\n",
       "                                    0.707 & 0.707 & 0 & 0 \\\\\n",
       "0 & 0 & 0.707 & -0.707 \\\\\n",
       "0 & 0 & 0.707 & 0.707 \\\\\n",
       "0.707 & -0.707 & 0 & 0\r\n",
       "                                \\end{matrix}\\right)\r\n",
       "                            $$</td>\r\n",
       "                        </tr>\r\n",
       "                    </table>\r\n",
       "                "
      ],
      "text/plain": [
       "Real:\n",
       "[[0.7071067811865477, 0.7071067811865477, 0, 0], \r\n",
       "[0, 0, 0.7071067811865477, -0.7071067811865477], \r\n",
       "[0, 0, 0.7071067811865477, 0.7071067811865477], \r\n",
       "[0.7071067811865477, -0.7071067811865477, 0, 0]]\n",
       "Imag:\n",
       "[[0, 0, 0, 0], \r\n",
       "[0, 0, 0, 0], \r\n",
       "[0, 0, 0, 0], \r\n",
       "[0, 0, 0, 0]]"
      ]
     },
     "metadata": {},
     "output_type": "display_data"
    },
    {
     "data": {
      "application/x-qsharp-data": "{\"@type\":\"tuple\"}",
      "text/plain": [
       "()"
      ]
     },
     "execution_count": 4,
     "metadata": {},
     "output_type": "execute_result"
    }
   ],
   "source": [
    "%simulate ShowBellstate"
   ]
  },
  {
   "cell_type": "markdown",
   "metadata": {},
   "source": [
    "Below we will now verify that our teleportation does indeed work correctly.\n",
    "\n",
    "In order to do this, we will teleport a state of a qubit that we rotate to an unusual angle from Alice to Bob.\n",
    "\n",
    "We will be using the `DumpRegister` and `AssertQubit` functions from the `Microsoft.Quantum.Diagnostics` to introspect our registers and assert that by the end of the computation the state of Bob's qubit is equivalent to the state of the payload qubit before teleportation."
   ]
  },
  {
   "cell_type": "code",
   "execution_count": 5,
   "metadata": {},
   "outputs": [
    {
     "data": {
      "application/x-qsharp-data": "[\"PerformTeleportationOnBellState\"]",
      "text/html": [
       "<ul><li>PerformTeleportationOnBellState</li></ul>"
      ],
      "text/plain": [
       "PerformTeleportationOnBellState"
      ]
     },
     "execution_count": 5,
     "metadata": {},
     "output_type": "execute_result"
    }
   ],
   "source": [
    "operation PerformTeleportationOnBellState(alice : Qubit, bob : Qubit, payload : Qubit) : Unit {\n",
    "    let cr = Send(alice, payload);\n",
    "    Receive(bob, cr);\n",
    "}"
   ]
  },
  {
   "cell_type": "code",
   "execution_count": 6,
   "metadata": {},
   "outputs": [
    {
     "data": {
      "application/x-qsharp-data": "[\"TestTeleportation\"]",
      "text/html": [
       "<ul><li>TestTeleportation</li></ul>"
      ],
      "text/plain": [
       "TestTeleportation"
      ]
     },
     "execution_count": 6,
     "metadata": {},
     "output_type": "execute_result"
    }
   ],
   "source": [
    "operation TestTeleportation() : Unit {\n",
    "    use (alice, bob, payload) = (Qubit(), Qubit(), Qubit());\n",
    "    Ry(1.727, payload);\n",
    "    DumpRegister((), [payload]);\n",
    "    CreateBellState(alice, bob);\n",
    "    PerformTeleportationOnBellState(alice, bob, payload);\n",
    "    Adjoint Ry(1.727, bob); // Uncompute Bob's qubit. Hence Bob should have a 0 qubit\n",
    "    AssertQubit(Zero, bob);\n",
    "}"
   ]
  },
  {
   "cell_type": "code",
   "execution_count": 7,
   "metadata": {},
   "outputs": [
    {
     "data": {
      "application/x-qsharp-data": "{\"diagnostic_kind\":\"state-vector\",\"qubit_ids\":[2],\"n_qubits\":1,\"amplitudes\":{\"0\":{\"Real\":0.6497810284339186,\"Imaginary\":0.0,\"Magnitude\":0.6497810284339186,\"Phase\":0.0},\"1\":{\"Real\":0.7601214475906853,\"Imaginary\":0.0,\"Magnitude\":0.7601214475906853,\"Phase\":0.0}}}",
      "text/html": [
       "\r\n",
       "                    <table style=\"table-layout: fixed; width: 100%\">\r\n",
       "                        <thead>\r\n",
       "                            \r\n",
       "                        <tr>\r\n",
       "                            <th>Qubit IDs</th>\r\n",
       "                            <td span=\"3\">2</td>\r\n",
       "                        </tr>\r\n",
       "                    \r\n",
       "                            <tr>\r\n",
       "                                <th style=\"width: 20ch)\">Basis state (little endian)</th>\r\n",
       "                                <th style=\"width: 20ch\">Amplitude</th><th style=\"width: calc(100% - 26ch - 20ch)\">Meas. Pr.</th><th style=\"width: 6ch\">Phase</th>\r\n",
       "                            </tr>\r\n",
       "                        </thead>\r\n",
       "                        <tbody>\r\n",
       "                        \r\n",
       "                            <tr>\r\n",
       "                                <td>$\\left|0\\right\\rangle$</td>\r\n",
       "                                <td>$0.6498 + 0.0000 i$</td>\r\n",
       "                                \r\n",
       "                                <td>\r\n",
       "                                    <progress\r\n",
       "                                        max=\"100\"\r\n",
       "                                        value=\"42.22153849126409\"\r\n",
       "                                        style=\"width: 100%;\"\r\n",
       "                                    > \r\n",
       "                                    <td>\r\n",
       "                                    <p id=\"round-092f90a8-f515-4cb8-bd10-ab167272f1a3\"> \r\n",
       "                                    <script>\r\n",
       "                                    var num = 42.22153849126409;\r\n",
       "                                    num = num.toFixed(4);\r\n",
       "                                    var num_string = num + \"%\";\r\n",
       "                                     document.getElementById(\"round-092f90a8-f515-4cb8-bd10-ab167272f1a3\").innerHTML = num_string;\r\n",
       "                                    </script> </p>\r\n",
       "                                    </td>\r\n",
       "                                </td>\r\n",
       "                            \r\n",
       "                                \r\n",
       "                                <td style=\"transform: rotate(0deg);\r\n",
       "                   text-align: center;\">\r\n",
       "                                 ↑\r\n",
       "                                </td>\r\n",
       "                            \r\n",
       "                            </tr>\r\n",
       "                        \n",
       "\r\n",
       "                            <tr>\r\n",
       "                                <td>$\\left|1\\right\\rangle$</td>\r\n",
       "                                <td>$0.7601 + 0.0000 i$</td>\r\n",
       "                                \r\n",
       "                                <td>\r\n",
       "                                    <progress\r\n",
       "                                        max=\"100\"\r\n",
       "                                        value=\"57.7784615087359\"\r\n",
       "                                        style=\"width: 100%;\"\r\n",
       "                                    > \r\n",
       "                                    <td>\r\n",
       "                                    <p id=\"round-92ac49f4-0c24-41a1-b360-5b6a7f47b199\"> \r\n",
       "                                    <script>\r\n",
       "                                    var num = 57.7784615087359;\r\n",
       "                                    num = num.toFixed(4);\r\n",
       "                                    var num_string = num + \"%\";\r\n",
       "                                     document.getElementById(\"round-92ac49f4-0c24-41a1-b360-5b6a7f47b199\").innerHTML = num_string;\r\n",
       "                                    </script> </p>\r\n",
       "                                    </td>\r\n",
       "                                </td>\r\n",
       "                            \r\n",
       "                                \r\n",
       "                                <td style=\"transform: rotate(0deg);\r\n",
       "                   text-align: center;\">\r\n",
       "                                 ↑\r\n",
       "                                </td>\r\n",
       "                            \r\n",
       "                            </tr>\r\n",
       "                        \r\n",
       "                        </tbody>\r\n",
       "                    </table>"
      ],
      "text/plain": [
       "|0⟩\t0.6497810284339186 + 0𝑖\n",
       "|1⟩\t0.7601214475906853 + 0𝑖"
      ]
     },
     "metadata": {},
     "output_type": "display_data"
    },
    {
     "data": {
      "application/x-qsharp-data": "{\"@type\":\"tuple\"}",
      "text/plain": [
       "()"
      ]
     },
     "execution_count": 7,
     "metadata": {},
     "output_type": "execute_result"
    }
   ],
   "source": [
    "%simulate TestTeleportation"
   ]
  },
  {
   "cell_type": "markdown",
   "metadata": {},
   "source": [
    "Seeing empirically that our teleportation works, we can proceed to run it on hardware and measure the fidelity.\n",
    "\n",
    "For this we will recreate our test function but run it multiple times."
   ]
  },
  {
   "cell_type": "code",
   "execution_count": 8,
   "metadata": {},
   "outputs": [
    {
     "data": {
      "application/x-qsharp-data": "[]",
      "text/html": [
       "<ul></ul>"
      ],
      "text/plain": []
     },
     "execution_count": 8,
     "metadata": {},
     "output_type": "execute_result"
    }
   ],
   "source": [
    "open Microsoft.Quantum.Convert;"
   ]
  },
  {
   "cell_type": "code",
   "execution_count": 9,
   "metadata": {},
   "outputs": [
    {
     "data": {
      "application/x-qsharp-data": "[\"TeleportFidelityHelper\",\"TestFidelity\"]",
      "text/html": [
       "<ul><li>TeleportFidelityHelper</li><li>TestFidelity</li></ul>"
      ],
      "text/plain": [
       "TeleportFidelityHelper, TestFidelity"
      ]
     },
     "execution_count": 9,
     "metadata": {},
     "output_type": "execute_result"
    }
   ],
   "source": [
    "operation TeleportFidelityHelper() : Result {\n",
    "    use (alice, bob, payload) = (Qubit(), Qubit(), Qubit());\n",
    "    Ry(1.727, payload);\n",
    "    CreateBellState(alice, bob);\n",
    "    PerformTeleportationOnBellState(alice, bob, payload);\n",
    "    Adjoint Ry(1.727, bob);\n",
    "    return M(bob);\n",
    "}\n",
    "\n",
    "operation TestFidelity(n : Int) : Double {\n",
    "    mutable expected = 0;\n",
    "    for i in 1..n {\n",
    "        if (TeleportFidelityHelper() == Zero) {\n",
    "            set expected = expected + 1;\n",
    "        }\n",
    "    }\n",
    "    return IntAsDouble(expected) / IntAsDouble(n);\n",
    "}"
   ]
  },
  {
   "cell_type": "markdown",
   "metadata": {},
   "source": [
    "Let us now compare how the theoretical fidelity compares to the practical fidelity. For this we will first simulate our code and then proceed to run it on Quantinuum hardware through Azure Quantum."
   ]
  },
  {
   "cell_type": "code",
   "execution_count": null,
   "metadata": {},
   "outputs": [],
   "source": [
    "%simulate TestFidelity n=100"
   ]
  },
  {
   "cell_type": "markdown",
   "metadata": {},
   "source": [
    "We see that in theory on a perfect machine we'd see perfect fidelity. Now let us try running our work on Azure Quantum.\n",
    "For that we begin by connecting to our Azure workspace."
   ]
  },
  {
   "cell_type": "code",
   "execution_count": null,
   "metadata": {},
   "outputs": [],
   "source": [
    "%azure.connect \"\" location=\"\""
   ]
  },
  {
   "cell_type": "markdown",
   "metadata": {},
   "source": [
    "When running jobs on Azure Quantum, before going to real hardware it is recommended to run your code through a validator to make sure you don't waste precious resources on faulty code. `quantinuum.hqs-lt-s2-apival` is the appropriate target for this."
   ]
  },
  {
   "cell_type": "code",
   "execution_count": null,
   "metadata": {},
   "outputs": [],
   "source": [
    "%azure.target quantinuum.hqs-lt-s2-apival"
   ]
  },
  {
   "cell_type": "markdown",
   "metadata": {},
   "source": [
    "Let us now submit our job"
   ]
  },
  {
   "cell_type": "code",
   "execution_count": null,
   "metadata": {},
   "outputs": [],
   "source": [
    "%azure.submit TeleportFidelityHelper jobName=\"Teleporation fidelity API validation\""
   ]
  },
  {
   "cell_type": "markdown",
   "metadata": {},
   "source": [
    "Now with the confidence that our job will work we can submit it to the simulator. The Quantinuum emulator provided by Azure Quantum differs from the simulator running locally, in that it accurately models noise and behavior of the Quantinuum quantum computer."
   ]
  },
  {
   "cell_type": "code",
   "execution_count": null,
   "metadata": {},
   "outputs": [],
   "source": [
    "%azure.target quantinuum.hqs-lt-s2-sim"
   ]
  },
  {
   "cell_type": "code",
   "execution_count": null,
   "metadata": {},
   "outputs": [],
   "source": [
    "%azure.submit TeleportFidelityHelper jobName=\"Teleporation fidelity simulation\""
   ]
  },
  {
   "cell_type": "markdown",
   "metadata": {},
   "source": [
    "Now we will look into our job and wait for its completion using `%azure.status` and once complete see results using `%azure.output`."
   ]
  },
  {
   "cell_type": "code",
   "execution_count": null,
   "metadata": {},
   "outputs": [],
   "source": [
    "%azure.status"
   ]
  },
  {
   "cell_type": "code",
   "execution_count": null,
   "metadata": {},
   "outputs": [],
   "source": [
    "%azure.output"
   ]
  },
  {
   "cell_type": "markdown",
   "metadata": {},
   "source": [
    "Let us now enhance our code by building entanglement swapping. The idea of entanglement swapping is that if Alice and Bob do not have a direct connection but connections to third parties such that a path exists, then each pair of adjacent parties can create Bell states and teleport Alice's second qubit along this path until it reaches Bob.\n",
    "\n",
    "First we build the base case of entanglement swapping `EntanglementSwap3`, then we proceed to build the general case `EntanglementSwapN`\n",
    "\n",
    "We will test entanglement swapping with 3 parties by using the Bell pair we create to send a specific qubit state. With the advanced debugging tools of Q# we can introspect that states mid-simulation allowing us to perform this test. To validate that teleportation protocol was implemented correctly, we will use assertion features provided by Q#. Later in this notebook we will test entanglement swapping by checking that Alice and Bob have a Bell state since we will run on real hardware (or accurate simulators thereof) which does not allow such introspection. Validating concepts on small scale using Q# debugging features before proceeding to building full-scale algorithms is a good quantum software development practice."
   ]
  },
  {
   "cell_type": "code",
   "execution_count": 10,
   "metadata": {},
   "outputs": [
    {
     "data": {
      "application/x-qsharp-data": "[\"EntanglementSwap3\",\"TestEntanglementSwap3\"]",
      "text/html": [
       "<ul><li>EntanglementSwap3</li><li>TestEntanglementSwap3</li></ul>"
      ],
      "text/plain": [
       "EntanglementSwap3, TestEntanglementSwap3"
      ]
     },
     "execution_count": 10,
     "metadata": {},
     "output_type": "execute_result"
    }
   ],
   "source": [
    "operation EntanglementSwap3(alice_charlie : Qubit[], charlie_bob : Qubit[]) : (Qubit, Qubit) {\n",
    "    CreateBellState(alice_charlie[0], alice_charlie[1]);\n",
    "    CreateBellState(charlie_bob[0], charlie_bob[1]);\n",
    "    PerformTeleportationOnBellState(charlie_bob[0], charlie_bob[1], alice_charlie[1]);\n",
    "    ResetAll([alice_charlie[1], charlie_bob[0]]);\n",
    "    return (alice_charlie[0], charlie_bob[1]);\n",
    "}\n",
    "\n",
    "operation TestEntanglementSwap3() : Unit {\n",
    "    use alice_charlie = Qubit[2];\n",
    "    use charlie_bob = Qubit[2];\n",
    "    let (alice, bob) = EntanglementSwap3(alice_charlie, charlie_bob);\n",
    "    use payload = Qubit();\n",
    "    Ry(1.727, payload);\n",
    "    DumpRegister((), [payload]);\n",
    "    PerformTeleportationOnBellState(alice, bob, payload);\n",
    "    Adjoint Ry(1.727, bob);\n",
    "    AssertQubit(Zero, bob);\n",
    "}"
   ]
  },
  {
   "cell_type": "code",
   "execution_count": null,
   "metadata": {},
   "outputs": [],
   "source": [
    "%simulate TestEntanglementSwap3"
   ]
  },
  {
   "cell_type": "markdown",
   "metadata": {},
   "source": [
    "Now let us build entanglement swapping for $n$ parties, given that we have validated the concept for 3 parties. As mentioned above, we will then test that Alice and Bob end up sharing a Bell state."
   ]
  },
  {
   "cell_type": "code",
   "execution_count": 19,
   "metadata": {},
   "outputs": [
    {
     "data": {
      "application/x-qsharp-data": "[\"EntanglementSwapN\"]",
      "text/html": [
       "<ul><li>EntanglementSwapN</li></ul>"
      ],
      "text/plain": [
       "EntanglementSwapN"
      ]
     },
     "execution_count": 19,
     "metadata": {},
     "output_type": "execute_result"
    }
   ],
   "source": [
    "operation EntanglementSwapN(nParties : Int, qubits : Qubit[]) : (Qubit, Qubit) {\n",
    "    for i in 0..nParties-1 {\n",
    "        // Entangle pairs of qubits\n",
    "        CreateBellState(qubits[2 * i], qubits[2 * i + 1]);\n",
    "    }\n",
    "    for i in 1..nParties-1 {\n",
    "        // Teleport previously teleported qubit \n",
    "        PerformTeleportationOnBellState(qubits[2 * i], qubits[2 * i + 1], qubits[2 * i - 1]);\n",
    "    }\n",
    "    return (qubits[0], qubits[2 * nParties - 1]);\n",
    "}"
   ]
  },
  {
   "cell_type": "markdown",
   "metadata": {},
   "source": [
    "Let us now test entanglement swapping with 4 qubits locally by teleporting a state again and using Q#'s debugging features."
   ]
  },
  {
   "cell_type": "code",
   "execution_count": 14,
   "metadata": {},
   "outputs": [
    {
     "data": {
      "application/x-qsharp-data": "[\"EntanglementSwap4\"]",
      "text/html": [
       "<ul><li>EntanglementSwap4</li></ul>"
      ],
      "text/plain": [
       "EntanglementSwap4"
      ]
     },
     "execution_count": 14,
     "metadata": {},
     "output_type": "execute_result"
    }
   ],
   "source": [
    "operation EntanglementSwap4() : (Result) {\n",
    "    use qubits = Qubit[2 * 4];\n",
    "    let (q1, qn) = EntanglementSwapN(4, qubits);\n",
    "    use payload = Qubit();\n",
    "    let rot = Ry(1.727, _);\n",
    "    rot(payload);\n",
    "    DumpRegister((), [payload]);\n",
    "    PerformTeleportationOnBellState(q1, qn, payload);\n",
    "    DumpRegister((), [qn]);\n",
    "    Adjoint rot(qn);\n",
    "    return M(qn);\n",
    "}"
   ]
  },
  {
   "cell_type": "code",
   "execution_count": 15,
   "metadata": {},
   "outputs": [
    {
     "name": "stdout",
     "output_type": "stream",
     "text": [
      "Entangle 0 1\n",
      "Entangle 2 3\n",
      "Entangle 4 5\n",
      "Entangle 6 7\n",
      "Teleport 1 to 3\n",
      "Teleport 3 to 5\n",
      "Teleport 5 to 7\n"
     ]
    },
    {
     "data": {
      "application/x-qsharp-data": "{\"diagnostic_kind\":\"state-vector\",\"qubit_ids\":[8],\"n_qubits\":1,\"amplitudes\":{\"0\":{\"Real\":0.6497810284339186,\"Imaginary\":0.0,\"Magnitude\":0.6497810284339186,\"Phase\":0.0},\"1\":{\"Real\":0.7601214475906852,\"Imaginary\":0.0,\"Magnitude\":0.7601214475906852,\"Phase\":0.0}}}",
      "text/html": [
       "\r\n",
       "                    <table style=\"table-layout: fixed; width: 100%\">\r\n",
       "                        <thead>\r\n",
       "                            \r\n",
       "                        <tr>\r\n",
       "                            <th>Qubit IDs</th>\r\n",
       "                            <td span=\"3\">8</td>\r\n",
       "                        </tr>\r\n",
       "                    \r\n",
       "                            <tr>\r\n",
       "                                <th style=\"width: 20ch)\">Basis state (little endian)</th>\r\n",
       "                                <th style=\"width: 20ch\">Amplitude</th><th style=\"width: calc(100% - 26ch - 20ch)\">Meas. Pr.</th><th style=\"width: 6ch\">Phase</th>\r\n",
       "                            </tr>\r\n",
       "                        </thead>\r\n",
       "                        <tbody>\r\n",
       "                        \r\n",
       "                            <tr>\r\n",
       "                                <td>$\\left|0\\right\\rangle$</td>\r\n",
       "                                <td>$0.6498 + 0.0000 i$</td>\r\n",
       "                                \r\n",
       "                                <td>\r\n",
       "                                    <progress\r\n",
       "                                        max=\"100\"\r\n",
       "                                        value=\"42.22153849126409\"\r\n",
       "                                        style=\"width: 100%;\"\r\n",
       "                                    > \r\n",
       "                                    <td>\r\n",
       "                                    <p id=\"round-da340f49-f36f-491d-a72a-883429af108d\"> \r\n",
       "                                    <script>\r\n",
       "                                    var num = 42.22153849126409;\r\n",
       "                                    num = num.toFixed(4);\r\n",
       "                                    var num_string = num + \"%\";\r\n",
       "                                     document.getElementById(\"round-da340f49-f36f-491d-a72a-883429af108d\").innerHTML = num_string;\r\n",
       "                                    </script> </p>\r\n",
       "                                    </td>\r\n",
       "                                </td>\r\n",
       "                            \r\n",
       "                                \r\n",
       "                                <td style=\"transform: rotate(0deg);\r\n",
       "                   text-align: center;\">\r\n",
       "                                 ↑\r\n",
       "                                </td>\r\n",
       "                            \r\n",
       "                            </tr>\r\n",
       "                        \n",
       "\r\n",
       "                            <tr>\r\n",
       "                                <td>$\\left|1\\right\\rangle$</td>\r\n",
       "                                <td>$0.7601 + 0.0000 i$</td>\r\n",
       "                                \r\n",
       "                                <td>\r\n",
       "                                    <progress\r\n",
       "                                        max=\"100\"\r\n",
       "                                        value=\"57.77846150873588\"\r\n",
       "                                        style=\"width: 100%;\"\r\n",
       "                                    > \r\n",
       "                                    <td>\r\n",
       "                                    <p id=\"round-d5bedaf4-de60-4857-912e-c30a19064c87\"> \r\n",
       "                                    <script>\r\n",
       "                                    var num = 57.77846150873588;\r\n",
       "                                    num = num.toFixed(4);\r\n",
       "                                    var num_string = num + \"%\";\r\n",
       "                                     document.getElementById(\"round-d5bedaf4-de60-4857-912e-c30a19064c87\").innerHTML = num_string;\r\n",
       "                                    </script> </p>\r\n",
       "                                    </td>\r\n",
       "                                </td>\r\n",
       "                            \r\n",
       "                                \r\n",
       "                                <td style=\"transform: rotate(0deg);\r\n",
       "                   text-align: center;\">\r\n",
       "                                 ↑\r\n",
       "                                </td>\r\n",
       "                            \r\n",
       "                            </tr>\r\n",
       "                        \r\n",
       "                        </tbody>\r\n",
       "                    </table>"
      ],
      "text/plain": [
       "|0⟩\t0.6497810284339186 + 0𝑖\n",
       "|1⟩\t0.7601214475906852 + 0𝑖"
      ]
     },
     "metadata": {},
     "output_type": "display_data"
    },
    {
     "data": {
      "application/x-qsharp-data": "{\"diagnostic_kind\":\"state-vector\",\"qubit_ids\":[7],\"n_qubits\":1,\"amplitudes\":{\"0\":{\"Real\":0.6497810284339188,\"Imaginary\":0.0,\"Magnitude\":0.6497810284339188,\"Phase\":0.0},\"1\":{\"Real\":0.7601214475906855,\"Imaginary\":0.0,\"Magnitude\":0.7601214475906855,\"Phase\":0.0}}}",
      "text/html": [
       "\r\n",
       "                    <table style=\"table-layout: fixed; width: 100%\">\r\n",
       "                        <thead>\r\n",
       "                            \r\n",
       "                        <tr>\r\n",
       "                            <th>Qubit IDs</th>\r\n",
       "                            <td span=\"3\">7</td>\r\n",
       "                        </tr>\r\n",
       "                    \r\n",
       "                            <tr>\r\n",
       "                                <th style=\"width: 20ch)\">Basis state (little endian)</th>\r\n",
       "                                <th style=\"width: 20ch\">Amplitude</th><th style=\"width: calc(100% - 26ch - 20ch)\">Meas. Pr.</th><th style=\"width: 6ch\">Phase</th>\r\n",
       "                            </tr>\r\n",
       "                        </thead>\r\n",
       "                        <tbody>\r\n",
       "                        \r\n",
       "                            <tr>\r\n",
       "                                <td>$\\left|0\\right\\rangle$</td>\r\n",
       "                                <td>$0.6498 + 0.0000 i$</td>\r\n",
       "                                \r\n",
       "                                <td>\r\n",
       "                                    <progress\r\n",
       "                                        max=\"100\"\r\n",
       "                                        value=\"42.22153849126412\"\r\n",
       "                                        style=\"width: 100%;\"\r\n",
       "                                    > \r\n",
       "                                    <td>\r\n",
       "                                    <p id=\"round-ef595a7e-3c87-4c55-98d3-234c3240aca3\"> \r\n",
       "                                    <script>\r\n",
       "                                    var num = 42.22153849126412;\r\n",
       "                                    num = num.toFixed(4);\r\n",
       "                                    var num_string = num + \"%\";\r\n",
       "                                     document.getElementById(\"round-ef595a7e-3c87-4c55-98d3-234c3240aca3\").innerHTML = num_string;\r\n",
       "                                    </script> </p>\r\n",
       "                                    </td>\r\n",
       "                                </td>\r\n",
       "                            \r\n",
       "                                \r\n",
       "                                <td style=\"transform: rotate(0deg);\r\n",
       "                   text-align: center;\">\r\n",
       "                                 ↑\r\n",
       "                                </td>\r\n",
       "                            \r\n",
       "                            </tr>\r\n",
       "                        \n",
       "\r\n",
       "                            <tr>\r\n",
       "                                <td>$\\left|1\\right\\rangle$</td>\r\n",
       "                                <td>$0.7601 + 0.0000 i$</td>\r\n",
       "                                \r\n",
       "                                <td>\r\n",
       "                                    <progress\r\n",
       "                                        max=\"100\"\r\n",
       "                                        value=\"57.778461508735916\"\r\n",
       "                                        style=\"width: 100%;\"\r\n",
       "                                    > \r\n",
       "                                    <td>\r\n",
       "                                    <p id=\"round-230e15e3-4758-4d1d-9bef-6174a465ba5c\"> \r\n",
       "                                    <script>\r\n",
       "                                    var num = 57.778461508735916;\r\n",
       "                                    num = num.toFixed(4);\r\n",
       "                                    var num_string = num + \"%\";\r\n",
       "                                     document.getElementById(\"round-230e15e3-4758-4d1d-9bef-6174a465ba5c\").innerHTML = num_string;\r\n",
       "                                    </script> </p>\r\n",
       "                                    </td>\r\n",
       "                                </td>\r\n",
       "                            \r\n",
       "                                \r\n",
       "                                <td style=\"transform: rotate(0deg);\r\n",
       "                   text-align: center;\">\r\n",
       "                                 ↑\r\n",
       "                                </td>\r\n",
       "                            \r\n",
       "                            </tr>\r\n",
       "                        \r\n",
       "                        </tbody>\r\n",
       "                    </table>"
      ],
      "text/plain": [
       "|0⟩\t0.6497810284339188 + 0𝑖\n",
       "|1⟩\t0.7601214475906855 + 0𝑖"
      ]
     },
     "metadata": {},
     "output_type": "display_data"
    },
    {
     "data": {
      "application/x-qsharp-data": "0",
      "text/plain": [
       "Zero"
      ]
     },
     "execution_count": 15,
     "metadata": {},
     "output_type": "execute_result"
    }
   ],
   "source": [
    "%simulate EntanglementSwap4"
   ]
  },
  {
   "cell_type": "code",
   "execution_count": 16,
   "metadata": {},
   "outputs": [
    {
     "data": {
      "application/x-qsharp-data": "[\"TeleportEntanglementSwapFidelityHelper\",\"TeleportEntanglementSwapFidelity\"]",
      "text/html": [
       "<ul><li>TeleportEntanglementSwapFidelityHelper</li><li>TeleportEntanglementSwapFidelity</li></ul>"
      ],
      "text/plain": [
       "TeleportEntanglementSwapFidelityHelper, TeleportEntanglementSwapFidelity"
      ]
     },
     "execution_count": 16,
     "metadata": {},
     "output_type": "execute_result"
    }
   ],
   "source": [
    "operation TeleportEntanglementSwapFidelityHelper(nParties : Int) : Result {\n",
    "    use qubits = Qubit[2 * nParties];\n",
    "    let (alice, bob) = EntanglementSwapN(nParties, qubits);\n",
    "    use payload = Qubit();\n",
    "    let rot = Ry(1.727, _);\n",
    "    rot(payload);\n",
    "    PerformTeleportationOnBellState(alice, bob, payload);\n",
    "    Adjoint rot(bob);\n",
    "    return M(bob);\n",
    "}\n",
    "\n",
    "operation TeleportEntanglementSwapFidelity(n : Int, nParties : Int) : Double {\n",
    "    mutable success = 0;\n",
    "    for i in 1..n {\n",
    "        if (TeleportEntanglementSwapFidelityHelper(nParties) == Zero) {\n",
    "            set success = success + 1;\n",
    "        }\n",
    "    }\n",
    "    return IntAsDouble(success) / IntAsDouble(n);\n",
    "}"
   ]
  },
  {
   "cell_type": "markdown",
   "metadata": {},
   "source": [
    "Given that we will run on Quantinuum's H1-2, we can run with up to 6 parties as we have 12 qubits available. So let us run one example job.\n",
    "\n",
    "**Please note that this sample makes use of paid services on Azure Quantum. The cost of running this sample with the provided parameters on Quantinuum in a free trial subscription is approximately 31.8EHQC. This quantity is only an approximate estimate and should not be used as a binding reference. The cost of the service might vary depending on your region, demand and other factors.** \n"
   ]
  },
  {
   "cell_type": "code",
   "execution_count": 22,
   "metadata": {},
   "outputs": [
    {
     "data": {
      "application/x-qsharp-data": "1.0",
      "text/plain": [
       "1"
      ]
     },
     "execution_count": 22,
     "metadata": {},
     "output_type": "execute_result"
    }
   ],
   "source": [
    "%simulate TeleportEntanglementSwapFidelity n=100 nParties=6"
   ]
  },
  {
   "cell_type": "code",
   "execution_count": 23,
   "metadata": {},
   "outputs": [
    {
     "name": "stderr",
     "output_type": "stream",
     "text": [
      "Please call %azure.connect before setting an execution target.\n"
     ]
    },
    {
     "data": {
      "application/x-qsharp-data": "{\"error_code\":1001,\"error_name\":\"NotConnected\",\"error_description\":\"Not connected to any Azure Quantum workspace.\"}",
      "text/html": [
       "Not connected to any Azure Quantum workspace."
      ],
      "text/plain": [
       "Not connected to any Azure Quantum workspace."
      ]
     },
     "execution_count": 23,
     "metadata": {},
     "output_type": "execute_result"
    }
   ],
   "source": [
    "%azure.target quantinuum.hqs-lt-s2-apival"
   ]
  },
  {
   "cell_type": "code",
   "execution_count": null,
   "metadata": {},
   "outputs": [],
   "source": [
    "%azure.submit TeleportEntanglementSwapFidelityHelper nParties=5 jobName=\"Entanglement Swapping - 6 parties API validation\""
   ]
  },
  {
   "cell_type": "code",
   "execution_count": null,
   "metadata": {},
   "outputs": [],
   "source": [
    "%azure.status"
   ]
  },
  {
   "cell_type": "code",
   "execution_count": null,
   "metadata": {},
   "outputs": [],
   "source": [
    "%azure.output"
   ]
  },
  {
   "cell_type": "code",
   "execution_count": null,
   "metadata": {},
   "outputs": [],
   "source": [
    "%azure.target quantinuum.hqs-lt-s2-sim"
   ]
  },
  {
   "cell_type": "code",
   "execution_count": null,
   "metadata": {},
   "outputs": [],
   "source": [
    "%azure.submit TeleportEntanglementSwapFidelityHelper nParties=5 jobName=\"Entanglement Swapping - 6 parties\""
   ]
  },
  {
   "cell_type": "code",
   "execution_count": null,
   "metadata": {},
   "outputs": [],
   "source": [
    "%azure.status"
   ]
  },
  {
   "cell_type": "code",
   "execution_count": null,
   "metadata": {},
   "outputs": [],
   "source": [
    "%azure.output"
   ]
  },
  {
   "cell_type": "markdown",
   "metadata": {},
   "source": [
    "If we were to run this with different numbers of parties, we could graph the results. To not overuse your free credits we did this for you. We show our results in the figure below:"
   ]
  },
  {
   "cell_type": "markdown",
   "metadata": {},
   "source": [
    "<img src=\"data:image/png;base64,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\"/>\n"
   ]
  },
  {
   "cell_type": "markdown",
   "metadata": {},
   "source": [
    "\n",
    "As we can see, there is definitely some noise, and fidelities drop under 95%.\n",
    "While this might not seem like much, remember that our circuit is extremely small.\n",
    "This meaning that for larger examples which you can find in other notebooks this effect will be more pronounced.\n",
    "\n",
    "In the data we also see that (contrary to expectations) $n=5$ has worse fidelity than $n=6$. \n"
   ]
  }
 ],
 "metadata": {
  "kernelspec": {
   "display_name": "Q#",
   "language": "qsharp",
   "name": "iqsharp"
  },
  "language_info": {
   "file_extension": ".qs",
   "mimetype": "text/x-qsharp",
   "name": "qsharp",
   "version": "0.24"
  },
  "orig_nbformat": 4
 },
 "nbformat": 4,
 "nbformat_minor": 2
}
