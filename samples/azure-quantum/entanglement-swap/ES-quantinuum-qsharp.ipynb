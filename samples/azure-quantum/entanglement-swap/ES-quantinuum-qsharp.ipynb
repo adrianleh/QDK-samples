{
  "cells": [
    {
      "cell_type": "markdown",
      "source": [
        "# Quantum Teleportation"
      ],
      "metadata": {}
    },
    {
      "cell_type": "markdown",
      "source": [
        "$\\providecommand{\\ket}[1]{\\left|#1\\right\\rangle}$\n",
        "$\\providecommand{\\bra}[1]{\\left\\langle#1\\right|}$\n",
        "\n",
        "In this sample, we will be looking at using quantum teleportation on the Azure Quantum service.\n",
        "\n",
        "To refresh our mind let us review how quantum teleportation works.\n",
        "\n",
        "We have two parties, Alice and Bob, they would like to share information, and they have an entangled state (usually the Bell state $\\frac{1}{\\sqrt{2}} (\\ket{00} + \\ket{11})$). \n",
        "If Alice now wishes to transfer quantum information, she will entangle some payload with her qubit and measure her qubit and payload.She will transmit the results of the measurement to Bob, who can use them to reconstruct Alice's payload on his entangled qubit.\n",
        "\n",
        "In the following code we will implement this operation.\n",
        "\n",
        "Before that, let's connect to the Az Quantum service and set our ta"
      ],
      "metadata": {}
    },
    {
      "cell_type": "code",
      "source": [
        "operation PrepareBellState(alice : Qubit, bob : Qubit) : Unit is Adj + Ctl {\n",
        "    H(alice);\n",
        "    CNOT(alice, bob);\n",
        "}\n",
        "\n",
        "operation Send(alice : Qubit, payload: Qubit) : (Result, Result) {\n",
        "    CNOT(payload, alice);\n",
        "    H(payload);\n",
        "    return (M(alice), M(payload));\n",
        "}\n",
        "\n",
        "operation Receive(bob : Qubit, (cr_x : Result, cr_z : Result)) : Unit {\n",
        "    if cr_x == One { X(bob); }\n",
        "    if cr_z == One { Z(bob); }\n",
        "}"
      ],
      "outputs": [
        {
          "output_type": "execute_result",
          "execution_count": 1,
          "data": {
            "text/plain": "PrepareBellState, Send, Receive",
            "text/html": "<ul><li>PrepareBellState</li><li>Send</li><li>Receive</li></ul>",
            "application/x-qsharp-data": "[\"PrepareBellState\",\"Send\",\"Receive\"]"
          },
          "metadata": {}
        }
      ],
      "execution_count": 1,
      "metadata": {}
    },
    {
      "cell_type": "markdown",
      "source": [
        "We will now use Q# visualization tools to show the unitary responsible from creating the Bell state.\n",
        "Printing unitary transformations implemented by operations is a great way to check whether your implementation is mathematically correct (for small operations)."
      ],
      "metadata": {}
    },
    {
      "cell_type": "code",
      "source": [
        "open Microsoft.Quantum.Diagnostics; // Contains DumpOperation\n",
        "\n",
        "operation DumpBellState() : Unit {\n",
        "    DumpOperation(2, qubits => PrepareBellState(qubits[0], qubits[1]));\n",
        "}"
      ],
      "outputs": [
        {
          "output_type": "execute_result",
          "execution_count": 2,
          "data": {
            "text/plain": "DumpBellState, _abfda0ce01a6474fb8dba0efaab253cb_DumpBellState",
            "text/html": "<ul><li>DumpBellState</li><li>_abfda0ce01a6474fb8dba0efaab253cb_DumpBellState</li></ul>",
            "application/x-qsharp-data": "[\"DumpBellState\",\"_abfda0ce01a6474fb8dba0efaab253cb_DumpBellState\"]"
          },
          "metadata": {}
        }
      ],
      "execution_count": 2,
      "metadata": {}
    },
    {
      "cell_type": "code",
      "source": [
        "%simulate DumpBellState"
      ],
      "outputs": [
        {
          "output_type": "display_data",
          "data": {
            "text/plain": "Real:\n[[0.7071067811865477, 0.7071067811865477, 0, 0], \n[0, 0, 0.7071067811865477, -0.7071067811865477], \n[0, 0, 0.7071067811865477, 0.7071067811865477], \n[0.7071067811865477, -0.7071067811865477, 0, 0]]\nImag:\n[[0, 0, 0, 0], \n[0, 0, 0, 0], \n[0, 0, 0, 0], \n[0, 0, 0, 0]]",
            "application/x-qsharp-data": "{\"Qubits\":[{\"Probability\":0.5000000000000002,\"IsMeasured\":false,\"Id\":2,\"Qubits\":[]},{\"Probability\":0.5000000000000002,\"IsMeasured\":false,\"Id\":3,\"Qubits\":[]}],\"Data\":[0.7071067811865477,0.0,0.7071067811865477,0.0,0.0,0.0,0.0,0.0,0.0,0.0,0.0,0.0,0.7071067811865477,0.0,-0.7071067811865477,0.0,0.0,0.0,0.0,0.0,0.7071067811865477,0.0,0.7071067811865477,0.0,0.7071067811865477,0.0,-0.7071067811865477,0.0,0.0,0.0,0.0,0.0]}"
          },
          "metadata": {}
        },
        {
          "output_type": "execute_result",
          "execution_count": 3,
          "data": {
            "text/plain": "()",
            "application/x-qsharp-data": "{\"@type\":\"tuple\"}"
          },
          "metadata": {}
        }
      ],
      "execution_count": 3,
      "metadata": {}
    },
    {
      "cell_type": "markdown",
      "source": [
        "Below we will now verify that our teleportation does indeed work correctly.\n",
        "\n",
        "In order to do this, we will teleport a state of a qubit that we rotate to an unusual angle from Alice to Bob.\n",
        "\n",
        "We will be using the `DumpRegister` and `AssertQubit` functions from the `Microsoft.Quantum.Diagnostics` to introspect our registers and assert that by the end of the computation the state of Bob's qubit is equivalent to the state of the payload qubit before teleportation."
      ],
      "metadata": {}
    },
    {
      "cell_type": "code",
      "source": [
        "operation PerformTeleportationOnBellState(alice : Qubit, bob : Qubit, payload : Qubit) : Unit {\n",
        "    let cr = Send(alice, payload);\n",
        "    Receive(bob, cr);\n",
        "}"
      ],
      "outputs": [
        {
          "output_type": "execute_result",
          "execution_count": 7,
          "data": {
            "text/plain": "PerformTeleportationOnBellState",
            "text/html": "<ul><li>PerformTeleportationOnBellState</li></ul>",
            "application/x-qsharp-data": "[\"PerformTeleportationOnBellState\"]"
          },
          "metadata": {}
        }
      ],
      "execution_count": 7,
      "metadata": {}
    },
    {
      "cell_type": "code",
      "source": [
        "operation TestTeleportation() : Unit {\n",
        "    use (alice, bob, payload) = (Qubit(), Qubit(), Qubit());\n",
        "    Ry(1.727, payload);\n",
        "    DumpRegister((), [payload]);\n",
        "    PrepareBellState(alice, bob);\n",
        "    PerformTeleportationOnBellState(alice, bob, payload);\n",
        "    Adjoint Ry(1.727, bob); // Uncompute Bob's qubi, returning it to the |0> state\n",
        "    AssertQubit(Zero, bob);\n",
        "}"
      ],
      "outputs": [
        {
          "output_type": "display_data",
          "data": {
            "text/plain": "Error QS5022: No identifier with the name \"PerformTeleportationOnBellState\" exists.\n 5 |     PrepareBellState(alice, bob);\n 6 |     PerformTeleportationOnBellState(alice, bob, payload);\n   |     ^^^^^^^^^^^^^^^^^^^^^^^^^^^^^^^\n 7 |     Adjoint Ry(1.727, bob); // Uncompute Bob's qubi, returning it to the |0> state",
            "text/html": "<strong>Error QS5022</strong>: No identifier with the name \"PerformTeleportationOnBellState\" exists.\n<pre><code> 5 |     PrepareBellState(alice, bob);\n 6 |     <span style=\"font-weight: bold; text-decoration: underline; text-decoration-style: wavy; text-decoration-color: red\">PerformTeleportationOnBellState</span>(alice, bob, payload);\n 7 |     Adjoint Ry(1.727, bob); // Uncompute Bob&#39;s qubi, returning it to the |0&gt; state</code></pre>",
            "application/x-qsharp-data": "{\"Source\":\"operation TestTeleportation() : Unit {\\n    use (alice, bob, payload) = (Qubit(), Qubit(), Qubit());\\n    Ry(1.727, payload);\\n    DumpRegister((), [payload]);\\n    PrepareBellState(alice, bob);\\n    PerformTeleportationOnBellState(alice, bob, payload);\\n    Adjoint Ry(1.727, bob); // Uncompute Bob's qubi, returning it to the |0> state\\n    AssertQubit(Zero, bob);\\n}\",\"Diagnostic\":{\"range\":{\"start\":{\"line\":5,\"character\":4},\"end\":{\"line\":5,\"character\":35}},\"severity\":1,\"code\":\"QS5022\",\"source\":\"/snippet_.qs\",\"message\":\"No identifier with the name \\\"PerformTeleportationOnBellState\\\" exists.\"},\"Hint\":null}"
          },
          "metadata": {}
        }
      ],
      "execution_count": 4,
      "metadata": {}
    },
    {
      "cell_type": "code",
      "source": [
        "%simulate TestTeleportation"
      ],
      "outputs": [],
      "execution_count": null,
      "metadata": {}
    },
    {
      "cell_type": "markdown",
      "source": [
        "Seeing empirically that our teleportation works, we can proceed to run it on hardware.\n",
        "\n",
        "For this we will recreate our test function but run it multiple times."
      ],
      "metadata": {}
    },
    {
      "cell_type": "code",
      "source": [
        "open Microsoft.Quantum.Convert;"
      ],
      "outputs": [],
      "execution_count": null,
      "metadata": {}
    },
    {
      "cell_type": "code",
      "source": [
        "operation TeleportToBob() : Result {\n",
        "    use (alice, bob, payload) = (Qubit(), Qubit(), Qubit());\n",
        "    Ry(1.727, payload);\n",
        "    PrepareBellState(alice, bob);\n",
        "    PerformTeleportationOnBellState(alice, bob, payload);\n",
        "    Adjoint Ry(1.727, bob);\n",
        "    return M(bob);\n",
        "}\n",
        "\n",
        "operation CountCorrectTeleportation(n : Int) : Double {\n",
        "    let expected = Count(res -> res == Zero, DrawMany(TeleportToBob, n))\n",
        "    return IntAsDouble(expected) / IntAsDouble(n);\n",
        "}"
      ],
      "outputs": [],
      "execution_count": null,
      "metadata": {}
    },
    {
      "cell_type": "markdown",
      "source": [
        "Let us now see if our implementation is correct by seeing if the simulator succeeds in the teleportation 100% of the time."
      ],
      "metadata": {}
    },
    {
      "cell_type": "code",
      "source": [
        "%simulate CountCorrectTeleportation n=100"
      ],
      "outputs": [],
      "execution_count": null,
      "metadata": {}
    },
    {
      "cell_type": "markdown",
      "source": [
        "We see that on a perfect machine the teleportation works correctly every time. Now let us try running our work on Azure Quantum."
      ],
      "metadata": {}
    },
    {
      "cell_type": "markdown",
      "source": [
        "When running jobs on Azure Quantum, before going to real hardware it is recommended to run your code through a validator to make sure you don't waste precious resources on faulty code. `quantinuum.hqs-lt-s2-apival` is the appropriate target for this."
      ],
      "metadata": {}
    },
    {
      "cell_type": "code",
      "source": [
        "%azure.connect resourceId=\"\" location=\"\""
      ],
      "outputs": [],
      "execution_count": null,
      "metadata": {}
    },
    {
      "cell_type": "code",
      "source": [
        "%azure.target quantinuum.hqs-lt-s2-apival"
      ],
      "outputs": [],
      "execution_count": null,
      "metadata": {}
    },
    {
      "cell_type": "markdown",
      "source": [
        "Let us now submit our job"
      ],
      "metadata": {}
    },
    {
      "cell_type": "code",
      "source": [
        "%azure.submit TeleportToBob jobName=\"Teleportation API validaton\""
      ],
      "outputs": [],
      "execution_count": null,
      "metadata": {}
    },
    {
      "cell_type": "markdown",
      "source": [
        "Now with the confidence that our job will work we can submit it to the simulator. The Quantinuum emulator provided by Azure Quantum differs from the simulator running locally, in that it accurately models noise and behavior of the Quantinuum quantum computer."
      ],
      "metadata": {}
    },
    {
      "cell_type": "code",
      "source": [
        "%azure.target quantinuum.hqs-lt-s2-sim"
      ],
      "outputs": [],
      "execution_count": null,
      "metadata": {}
    },
    {
      "cell_type": "code",
      "source": [
        "%azure.submit TeleportToBob jobName=\"Teleporation simulation\""
      ],
      "outputs": [],
      "execution_count": null,
      "metadata": {}
    },
    {
      "cell_type": "markdown",
      "source": [
        "Now we will look into our job and wait for its completion using `%azure.status` and once complete see results using `%azure.output`."
      ],
      "metadata": {}
    },
    {
      "cell_type": "code",
      "source": [
        "%azure.status"
      ],
      "outputs": [],
      "execution_count": null,
      "metadata": {}
    },
    {
      "cell_type": "code",
      "source": [
        "%azure.output"
      ],
      "outputs": [],
      "execution_count": null,
      "metadata": {}
    },
    {
      "cell_type": "markdown",
      "source": [
        "Let us now enhance our code by building entanglement swapping. The idea of entanglement swapping is that if Alice and Bob do not have a direct connection but connections to third parties such that a path exists, then each pair of adjacent parties can create Bell states and teleport Alice's second qubit along this path until it reaches Bob.\n",
        "\n",
        "First we build the base case of entanglement swapping `EntanglementSwap3`, then we proceed to build the general case `EntanglementSwapN`\n",
        "\n",
        "We will test entanglement swapping with 3 parties by using the Bell pair we create to send a specific qubit state. With the advanced debugging tools of Q# we can introspect that states mid-simulation allowing us to perform this test. To validate that teleportation protocol was implemented correctly, we will use assertion features provided by Q#. Later in this notebook we will test entanglement swapping by checking that Alice and Bob have a Bell state since we will run on real hardware (or accurate simulators thereof) which does not allow such introspection. Validating concepts on small scale using Q# debugging features before proceeding to building full-scale algorithms is a good quantum software development practice."
      ],
      "metadata": {}
    },
    {
      "cell_type": "code",
      "source": [
        "operation EntanglementSwap3(aliceCharlie : Qubit[], charlieBob : Qubit[]) : (Qubit, Qubit) {\n",
        "    PrepareBellState(aliceCharlie[0], aliceCharlie[1]);\n",
        "    PrepareBellState(charlieBob[0], charlieBob[1]);\n",
        "    PerformTeleportationOnBellState(charlieBob[0], charlieBob[1], aliceCharlie[1]);\n",
        "    ResetAll([aliceCharlie[1], charlieBob[0]]);\n",
        "    return (aliceCharlie[0], charlieBob[1]);\n",
        "}\n",
        "\n",
        "operation TestEntanglementSwap3() : Unit {\n",
        "    use aliceCharlie = Qubit[2];\n",
        "    use charlieBob = Qubit[2];\n",
        "    let (alice, bob) = EntanglementSwap3(aliceCharlie, charlieBob);\n",
        "    use payload = Qubit();\n",
        "    Ry(1.727, payload);\n",
        "    DumpRegister((), [payload]);\n",
        "    PerformTeleportationOnBellState(alice, bob, payload);\n",
        "    Adjoint Ry(1.727, bob);\n",
        "    AssertQubit(Zero, bob);\n",
        "}"
      ],
      "outputs": [
        {
          "output_type": "execute_result",
          "execution_count": 8,
          "data": {
            "text/plain": "EntanglementSwap3, TestEntanglementSwap3",
            "text/html": "<ul><li>EntanglementSwap3</li><li>TestEntanglementSwap3</li></ul>",
            "application/x-qsharp-data": "[\"EntanglementSwap3\",\"TestEntanglementSwap3\"]"
          },
          "metadata": {}
        }
      ],
      "execution_count": 8,
      "metadata": {}
    },
    {
      "cell_type": "code",
      "source": [
        "%simulate TestEntanglementSwap3"
      ],
      "outputs": [
        {
          "output_type": "display_data",
          "data": {
            "text/plain": "|0⟩\t0.6497810284339186 + 0𝑖\n|1⟩\t0.7601214475906853 + 0𝑖",
            "text/html": "\r\n                    <table style=\"table-layout: fixed; width: 100%\">\r\n                        <thead>\r\n                            \r\n                        <tr>\r\n                            <th>Qubit IDs</th>\r\n                            <td span=\"3\">4</td>\r\n                        </tr>\r\n                    \r\n                            <tr>\r\n                                <th style=\"width: 20ch)\">Basis state (little endian)</th>\r\n                                <th style=\"width: 20ch\">Amplitude</th><th style=\"width: calc(100% - 26ch - 20ch)\">Meas. Pr.</th><th style=\"width: 6ch\">Phase</th>\r\n                            </tr>\r\n                        </thead>\r\n                        <tbody>\r\n                        \r\n                            <tr>\r\n                                <td>$\\left|0\\right\\rangle$</td>\r\n                                <td>$0.6498 + 0.0000 i$</td>\r\n                                \r\n                                <td>\r\n                                    <progress\r\n                                        max=\"100\"\r\n                                        value=\"42.22153849126409\"\r\n                                        style=\"width: 100%;\"\r\n                                    > \r\n                                    <td>\r\n                                    <p id=\"round-15e10c58-1575-49fc-a118-75f65a138dd9\"> \r\n                                    <script>\r\n                                    var num = 42.22153849126409;\r\n                                    num = num.toFixed(4);\r\n                                    var num_string = num + \"%\";\r\n                                     document.getElementById(\"round-15e10c58-1575-49fc-a118-75f65a138dd9\").innerHTML = num_string;\r\n                                    </script> </p>\r\n                                    </td>\r\n                                </td>\r\n                            \r\n                                \r\n                                <td style=\"transform: rotate(0deg);\r\n                   text-align: center;\">\r\n                                 ↑\r\n                                </td>\r\n                            \r\n                            </tr>\r\n                        \n\r\n                            <tr>\r\n                                <td>$\\left|1\\right\\rangle$</td>\r\n                                <td>$0.7601 + 0.0000 i$</td>\r\n                                \r\n                                <td>\r\n                                    <progress\r\n                                        max=\"100\"\r\n                                        value=\"57.7784615087359\"\r\n                                        style=\"width: 100%;\"\r\n                                    > \r\n                                    <td>\r\n                                    <p id=\"round-63b0d312-18f0-423e-a12d-fb522cbc3aa7\"> \r\n                                    <script>\r\n                                    var num = 57.7784615087359;\r\n                                    num = num.toFixed(4);\r\n                                    var num_string = num + \"%\";\r\n                                     document.getElementById(\"round-63b0d312-18f0-423e-a12d-fb522cbc3aa7\").innerHTML = num_string;\r\n                                    </script> </p>\r\n                                    </td>\r\n                                </td>\r\n                            \r\n                                \r\n                                <td style=\"transform: rotate(0deg);\r\n                   text-align: center;\">\r\n                                 ↑\r\n                                </td>\r\n                            \r\n                            </tr>\r\n                        \r\n                        </tbody>\r\n                    </table>",
            "application/x-qsharp-data": "{\"diagnostic_kind\":\"state-vector\",\"qubit_ids\":[4],\"n_qubits\":1,\"amplitudes\":{\"0\":{\"Real\":0.6497810284339186,\"Imaginary\":0.0,\"Magnitude\":0.6497810284339186,\"Phase\":0.0},\"1\":{\"Real\":0.7601214475906853,\"Imaginary\":0.0,\"Magnitude\":0.7601214475906853,\"Phase\":0.0}}}"
          },
          "metadata": {}
        },
        {
          "output_type": "execute_result",
          "execution_count": 9,
          "data": {
            "text/plain": "()",
            "application/x-qsharp-data": "{\"@type\":\"tuple\"}"
          },
          "metadata": {}
        }
      ],
      "execution_count": 9,
      "metadata": {}
    },
    {
      "cell_type": "markdown",
      "source": [
        "Now let us build entanglement swapping for $n$ parties, given that we have validated the concept for 3 parties. As mentioned above, we will then test that Alice and Bob end up sharing a Bell state."
      ],
      "metadata": {}
    },
    {
      "cell_type": "code",
      "source": [
        "operation EntanglementSwapN(nParties : Int, qubits : Qubit[]) : (Qubit, Qubit) {\n",
        "    for i in 0..nParties-1 {\n",
        "        // Entangle pairs of qubits\n",
        "        PrepareBellState(qubits[2 * i], qubits[2 * i + 1]);\n",
        "    }\n",
        "    for i in 1..nParties-1 {\n",
        "        // Teleport previously teleported qubit \n",
        "        PerformTeleportationOnBellState(qubits[2 * i], qubits[2 * i + 1], qubits[2 * i - 1]);\n",
        "    }\n",
        "    return (qubits[0], qubits[2 * nParties - 1]);\n",
        "}"
      ],
      "outputs": [
        {
          "output_type": "execute_result",
          "execution_count": 10,
          "data": {
            "text/plain": "EntanglementSwapN",
            "text/html": "<ul><li>EntanglementSwapN</li></ul>",
            "application/x-qsharp-data": "[\"EntanglementSwapN\"]"
          },
          "metadata": {}
        }
      ],
      "execution_count": 10,
      "metadata": {}
    },
    {
      "cell_type": "markdown",
      "source": [
        "Let us now test entanglement swapping with 4 qubits locally by teleporting a state again and using Q#'s debugging features."
      ],
      "metadata": {}
    },
    {
      "cell_type": "code",
      "source": [
        "operation EntanglementSwap4() : (Result) {\n",
        "    use qubits = Qubit[2 * 4];\n",
        "    let (q1, qn) = EntanglementSwapN(4, qubits);\n",
        "    use payload = Qubit();\n",
        "    let rot = Ry(1.727, _);\n",
        "    rot(payload);\n",
        "    DumpRegister((), [payload]);\n",
        "    PerformTeleportationOnBellState(q1, qn, payload);\n",
        "    DumpRegister((), [qn]);\n",
        "    Adjoint rot(qn);\n",
        "    return M(qn);\n",
        "}"
      ],
      "outputs": [
        {
          "output_type": "execute_result",
          "execution_count": 11,
          "data": {
            "text/plain": "EntanglementSwap4",
            "text/html": "<ul><li>EntanglementSwap4</li></ul>",
            "application/x-qsharp-data": "[\"EntanglementSwap4\"]"
          },
          "metadata": {}
        }
      ],
      "execution_count": 11,
      "metadata": {}
    },
    {
      "cell_type": "code",
      "source": [
        "%simulate EntanglementSwap4"
      ],
      "outputs": [
        {
          "output_type": "display_data",
          "data": {
            "text/plain": "|0⟩\t0.6497810284339186 + 0𝑖\n|1⟩\t0.7601214475906852 + 0𝑖",
            "text/html": "\r\n                    <table style=\"table-layout: fixed; width: 100%\">\r\n                        <thead>\r\n                            \r\n                        <tr>\r\n                            <th>Qubit IDs</th>\r\n                            <td span=\"3\">8</td>\r\n                        </tr>\r\n                    \r\n                            <tr>\r\n                                <th style=\"width: 20ch)\">Basis state (little endian)</th>\r\n                                <th style=\"width: 20ch\">Amplitude</th><th style=\"width: calc(100% - 26ch - 20ch)\">Meas. Pr.</th><th style=\"width: 6ch\">Phase</th>\r\n                            </tr>\r\n                        </thead>\r\n                        <tbody>\r\n                        \r\n                            <tr>\r\n                                <td>$\\left|0\\right\\rangle$</td>\r\n                                <td>$0.6498 + 0.0000 i$</td>\r\n                                \r\n                                <td>\r\n                                    <progress\r\n                                        max=\"100\"\r\n                                        value=\"42.22153849126409\"\r\n                                        style=\"width: 100%;\"\r\n                                    > \r\n                                    <td>\r\n                                    <p id=\"round-9bd7003e-d148-4bfa-9190-d81d8e5e7e41\"> \r\n                                    <script>\r\n                                    var num = 42.22153849126409;\r\n                                    num = num.toFixed(4);\r\n                                    var num_string = num + \"%\";\r\n                                     document.getElementById(\"round-9bd7003e-d148-4bfa-9190-d81d8e5e7e41\").innerHTML = num_string;\r\n                                    </script> </p>\r\n                                    </td>\r\n                                </td>\r\n                            \r\n                                \r\n                                <td style=\"transform: rotate(0deg);\r\n                   text-align: center;\">\r\n                                 ↑\r\n                                </td>\r\n                            \r\n                            </tr>\r\n                        \n\r\n                            <tr>\r\n                                <td>$\\left|1\\right\\rangle$</td>\r\n                                <td>$0.7601 + 0.0000 i$</td>\r\n                                \r\n                                <td>\r\n                                    <progress\r\n                                        max=\"100\"\r\n                                        value=\"57.77846150873588\"\r\n                                        style=\"width: 100%;\"\r\n                                    > \r\n                                    <td>\r\n                                    <p id=\"round-746768b3-b5a8-4a88-a066-8e6ea3221ae0\"> \r\n                                    <script>\r\n                                    var num = 57.77846150873588;\r\n                                    num = num.toFixed(4);\r\n                                    var num_string = num + \"%\";\r\n                                     document.getElementById(\"round-746768b3-b5a8-4a88-a066-8e6ea3221ae0\").innerHTML = num_string;\r\n                                    </script> </p>\r\n                                    </td>\r\n                                </td>\r\n                            \r\n                                \r\n                                <td style=\"transform: rotate(0deg);\r\n                   text-align: center;\">\r\n                                 ↑\r\n                                </td>\r\n                            \r\n                            </tr>\r\n                        \r\n                        </tbody>\r\n                    </table>",
            "application/x-qsharp-data": "{\"diagnostic_kind\":\"state-vector\",\"qubit_ids\":[8],\"n_qubits\":1,\"amplitudes\":{\"0\":{\"Real\":0.6497810284339186,\"Imaginary\":0.0,\"Magnitude\":0.6497810284339186,\"Phase\":0.0},\"1\":{\"Real\":0.7601214475906852,\"Imaginary\":0.0,\"Magnitude\":0.7601214475906852,\"Phase\":0.0}}}"
          },
          "metadata": {}
        },
        {
          "output_type": "display_data",
          "data": {
            "text/plain": "|0⟩\t0.6497810284339188 + 0𝑖\n|1⟩\t0.7601214475906855 + 0𝑖",
            "text/html": "\r\n                    <table style=\"table-layout: fixed; width: 100%\">\r\n                        <thead>\r\n                            \r\n                        <tr>\r\n                            <th>Qubit IDs</th>\r\n                            <td span=\"3\">7</td>\r\n                        </tr>\r\n                    \r\n                            <tr>\r\n                                <th style=\"width: 20ch)\">Basis state (little endian)</th>\r\n                                <th style=\"width: 20ch\">Amplitude</th><th style=\"width: calc(100% - 26ch - 20ch)\">Meas. Pr.</th><th style=\"width: 6ch\">Phase</th>\r\n                            </tr>\r\n                        </thead>\r\n                        <tbody>\r\n                        \r\n                            <tr>\r\n                                <td>$\\left|0\\right\\rangle$</td>\r\n                                <td>$0.6498 + 0.0000 i$</td>\r\n                                \r\n                                <td>\r\n                                    <progress\r\n                                        max=\"100\"\r\n                                        value=\"42.22153849126412\"\r\n                                        style=\"width: 100%;\"\r\n                                    > \r\n                                    <td>\r\n                                    <p id=\"round-fb79aca5-b21e-4bf0-a5f9-648686224332\"> \r\n                                    <script>\r\n                                    var num = 42.22153849126412;\r\n                                    num = num.toFixed(4);\r\n                                    var num_string = num + \"%\";\r\n                                     document.getElementById(\"round-fb79aca5-b21e-4bf0-a5f9-648686224332\").innerHTML = num_string;\r\n                                    </script> </p>\r\n                                    </td>\r\n                                </td>\r\n                            \r\n                                \r\n                                <td style=\"transform: rotate(0deg);\r\n                   text-align: center;\">\r\n                                 ↑\r\n                                </td>\r\n                            \r\n                            </tr>\r\n                        \n\r\n                            <tr>\r\n                                <td>$\\left|1\\right\\rangle$</td>\r\n                                <td>$0.7601 + 0.0000 i$</td>\r\n                                \r\n                                <td>\r\n                                    <progress\r\n                                        max=\"100\"\r\n                                        value=\"57.778461508735916\"\r\n                                        style=\"width: 100%;\"\r\n                                    > \r\n                                    <td>\r\n                                    <p id=\"round-291dc3da-5ab2-4ba4-b55a-8a4bb2d15b02\"> \r\n                                    <script>\r\n                                    var num = 57.778461508735916;\r\n                                    num = num.toFixed(4);\r\n                                    var num_string = num + \"%\";\r\n                                     document.getElementById(\"round-291dc3da-5ab2-4ba4-b55a-8a4bb2d15b02\").innerHTML = num_string;\r\n                                    </script> </p>\r\n                                    </td>\r\n                                </td>\r\n                            \r\n                                \r\n                                <td style=\"transform: rotate(0deg);\r\n                   text-align: center;\">\r\n                                 ↑\r\n                                </td>\r\n                            \r\n                            </tr>\r\n                        \r\n                        </tbody>\r\n                    </table>",
            "application/x-qsharp-data": "{\"diagnostic_kind\":\"state-vector\",\"qubit_ids\":[7],\"n_qubits\":1,\"amplitudes\":{\"0\":{\"Real\":0.6497810284339188,\"Imaginary\":0.0,\"Magnitude\":0.6497810284339188,\"Phase\":0.0},\"1\":{\"Real\":0.7601214475906855,\"Imaginary\":0.0,\"Magnitude\":0.7601214475906855,\"Phase\":0.0}}}"
          },
          "metadata": {}
        },
        {
          "output_type": "execute_result",
          "execution_count": 12,
          "data": {
            "text/plain": "Zero",
            "application/x-qsharp-data": "0"
          },
          "metadata": {}
        }
      ],
      "execution_count": 12,
      "metadata": {}
    },
    {
      "cell_type": "code",
      "source": [
        "open Microsoft.Quantum.Arrays;\n",
        "open Microsoft.Quantum.Convert;\n",
        "\n",
        "operation TeleportNParties(nParties : Int) : Result {\n",
        "    use qubits = Qubit[2 * nParties];\n",
        "    let (alice, bob) = EntanglementSwapN(nParties, qubits);\n",
        "    use payload = Qubit();\n",
        "    let rot = Ry(1.727, _);\n",
        "    rot(payload);\n",
        "    PerformTeleportationOnBellState(alice, bob, payload);\n",
        "    Adjoint rot(bob);\n",
        "    return M(bob);\n",
        "}\n",
        "\n",
        "operation CountCorrectTeleportationNParties(n : Int, nParties : Int) : Double {\n",
        "    let success = Count(res -> res == Zero, DrawMany(TeleportNParties, n, nParties));\n",
        "    return IntAsDouble(success) / IntAsDouble(n);\n",
        "}"
      ],
      "outputs": [
        {
          "output_type": "execute_result",
          "execution_count": 17,
          "data": {
            "text/plain": "TeleportNParties, CountCorrectTeleportationNParties, _1601ceffef5648579c6768edf78b3ea2_CountCorrectTeleportationNParties",
            "text/html": "<ul><li>TeleportNParties</li><li>CountCorrectTeleportationNParties</li><li>_1601ceffef5648579c6768edf78b3ea2_CountCorrectTeleportationNParties</li></ul>",
            "application/x-qsharp-data": "[\"TeleportNParties\",\"CountCorrectTeleportationNParties\",\"_1601ceffef5648579c6768edf78b3ea2_CountCorrectTeleportationNParties\"]"
          },
          "metadata": {}
        }
      ],
      "execution_count": 17,
      "metadata": {}
    },
    {
      "cell_type": "markdown",
      "source": [
        "Given that we will run on Quantinuum's H1-2, we can run with up to 6 parties as we have 12 qubits available. So let us run one example job.\n",
        "\n",
        "**Please note that this sample makes use of paid services on Azure Quantum. The cost of running this sample with the provided parameters on Quantinuum in a free trial subscription is approximately 31.8EHQC. This quantity is only an approximate estimate and should not be used as a binding reference. The cost of the service might vary depending on your region, demand and other factors.** \n"
      ],
      "metadata": {}
    },
    {
      "cell_type": "code",
      "source": [
        "%simulate CountCorrectTeleportationNParties n=100 nParties=6"
      ],
      "outputs": [
        {
          "output_type": "execute_result",
          "execution_count": 19,
          "data": {
            "text/plain": "1",
            "application/x-qsharp-data": "1.0"
          },
          "metadata": {}
        }
      ],
      "execution_count": 19,
      "metadata": {}
    },
    {
      "cell_type": "code",
      "source": [
        "%azure.target quantinuum.hqs-lt-s2-apival"
      ],
      "outputs": [
        {
          "output_type": "stream",
          "name": "stderr",
          "text": "Please call %azure.connect before setting an execution target.\n"
        },
        {
          "output_type": "execute_result",
          "execution_count": 23,
          "data": {
            "application/x-qsharp-data": "{\"error_code\":1001,\"error_name\":\"NotConnected\",\"error_description\":\"Not connected to any Azure Quantum workspace.\"}",
            "text/html": "Not connected to any Azure Quantum workspace.",
            "text/plain": "Not connected to any Azure Quantum workspace."
          },
          "metadata": {}
        }
      ],
      "execution_count": 23,
      "metadata": {}
    },
    {
      "cell_type": "code",
      "source": [
        "%azure.submit TeleportNParties nParties=5 jobName=\"Entanglement Swapping - 6 parties API validation\""
      ],
      "outputs": [],
      "execution_count": null,
      "metadata": {}
    },
    {
      "cell_type": "code",
      "source": [
        "%azure.status"
      ],
      "outputs": [],
      "execution_count": null,
      "metadata": {}
    },
    {
      "cell_type": "code",
      "source": [
        "%azure.output"
      ],
      "outputs": [],
      "execution_count": null,
      "metadata": {}
    },
    {
      "cell_type": "code",
      "source": [
        "%azure.target quantinuum.hqs-lt-s2-sim"
      ],
      "outputs": [],
      "execution_count": null,
      "metadata": {}
    },
    {
      "cell_type": "code",
      "source": [
        "%azure.submit TeleportNParties nParties=5 jobName=\"Entanglement Swapping - 6 parties\""
      ],
      "outputs": [],
      "execution_count": null,
      "metadata": {}
    },
    {
      "cell_type": "code",
      "source": [
        "%azure.status"
      ],
      "outputs": [],
      "execution_count": null,
      "metadata": {}
    },
    {
      "cell_type": "code",
      "source": [
        "%azure.output"
      ],
      "outputs": [],
      "execution_count": null,
      "metadata": {}
    },
    {
      "cell_type": "markdown",
      "source": [
        "As we can see we were able to run entanglement swapping on the Quantinuum emulator and were able to use the mid-circuit measurement capability in the process. We also saw how we could use the Azure Quantum service to submit and process our jobs."
      ],
      "metadata": {}
    }
  ],
  "metadata": {
    "kernelspec": {
      "name": "iqsharp",
      "language": "qsharp",
      "display_name": "Q#"
    },
    "language_info": {
      "name": "qsharp",
      "version": "0.24",
      "mimetype": "text/x-qsharp",
      "file_extension": ".qs"
    },
    "orig_nbformat": 4,
    "kernel_info": {
      "name": "iqsharp"
    },
    "nteract": {
      "version": "nteract-front-end@1.0.0"
    }
  },
  "nbformat": 4,
  "nbformat_minor": 2
}