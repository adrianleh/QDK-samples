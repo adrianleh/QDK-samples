{
 "cells": [
  {
   "cell_type": "markdown",
   "metadata": {},
   "source": [
    "# Numerical Integration with Quantum Amplitude Estimation\n",
    "\n",
    "In this sample we will be integrating functions numerically using Quantum Amplitude Estimation (QAE).\n",
    "Warning: This sample is intended for users with an advanced level of knowledge of mathematics.\n",
    "\n",
    "This sample is based on the work [arXiv:2005.07711](https://arxiv.org/abs/2005.07711) by Vazquez and Woerner.\n",
    "\n",
    "In this sample we cover techniques of visualizing results and seeing noise on hardware in action.\n",
    "\n",
    "The basics of QAE are that we are given an operator $A$ with the following properties\n",
    "\n",
    "$$A\\ket{0}_{n+1} = \\sqrt{1-a}\\ket{\\psi_0}_n\\ket{0} + \\sqrt{a}\\ket{\\psi_1}_n\\ket{1}$$\n",
    "\n",
    "with $\\psi_0$ and $\\psi_1$ being arbitrary states.\n",
    "\n",
    "From this we construct the operators:\n",
    "\n",
    "- $S_{\\psi_0}, S_{\\psi_1}$, which are reflections across $\\psi_0$ and $\\psi_1$ respectively\n",
    "- $Q=A S_{\\psi_0} A^\\dagger S_{\\psi_1}$ as the full operator\n",
    "\n",
    "Amplitude estimation will then try to estimate $a$ given the operators $A$ and $Q$.\n",
    "For this we construct a circuit where we apply $A$ followed by $k$ applications of $Q$ and in the end measure the last qubit:\n",
    "$$Q^kA\\ket{0}_n, k \\geq 0, n \\geq 2$$ \n",
    "\n",
    "After running the circuit multiple times we estimate $a$ to be the probability of getting result $1$.\n",
    "\n",
    "Our results improve if we build an $A$ that has the same $a$ acts on a greater number of qubits $n$ or by increasing the number of iterations $k$.\n",
    "Increasing $n$ comes at the cost of needing more qubits, whereas $k$ comes at the cost of higher circuit depth.\n"
   ]
  },
  {
   "cell_type": "code",
   "execution_count": 1,
   "metadata": {},
   "outputs": [
    {
     "name": "stdout",
     "output_type": "stream",
     "text": [
      "Preparing Q# environment...\n",
      "."
     ]
    }
   ],
   "source": [
    "import qsharp"
   ]
  },
  {
   "cell_type": "code",
   "execution_count": 2,
   "metadata": {},
   "outputs": [],
   "source": [
    "import numpy as np\n",
    "import matplotlib.pyplot as plt\n",
    "import math\n",
    "import random\n",
    "from scipy import optimize\n",
    "import pandas as pd\n",
    "\n",
    "import qsharp.azure\n",
    "import datetime\n",
    "from qsharp.azure import AzureJob"
   ]
  },
  {
   "cell_type": "markdown",
   "metadata": {},
   "source": [
    "Below we are implementing a circuit for the numerical integral\n",
    "\n",
    "$$\\int_{x=0}^y{\\sin^2(\\pi x)dx} = \\frac{2\\pi y - \\sin(2 \\pi y)}{4\\pi}$$\n",
    "\n",
    "Details on this circuit can be found in the paper [arXiv:2005.07711](https://arxiv.org/abs/2005.07711).\n",
    "\n",
    "The fundamental idea is that we \n",
    "* Discretize the interval $[0,2\\pi{}]$ into points $[x_0, \\ldots, x_{2^n}]$ that are spaced uniformly, where $n+1$ is the number of qubits for the circuit\n",
    "* Put the quantum program in the state of the function at the discrete points\n",
    "* Estimate the amplitudes at those given points\n",
    "* Calculate the Riemann integral using these values\n",
    "\n",
    "The reason amplitude estimation is effective on quantum computers is that the quantum version has quadratic speedup over its classical counterpart. \n",
    "This stems from the fact that the QAE algorithm fundamentally builds on Grover's search.\n",
    "\n",
    "For a circuit with $n+1$ qubits, we have one target qubit and $n$ control qubits.\n",
    "\n",
    "Our algorithm has two main components:\n",
    "\n",
    "- State preparation $A$\n",
    "- Iteration operator $Q$\n"
   ]
  },
  {
   "cell_type": "code",
   "execution_count": 3,
   "metadata": {},
   "outputs": [],
   "source": [
    "%%qsharp\n",
    "\n",
    "open Microsoft.Quantum.Math;\n",
    "open Microsoft.Quantum.Arithmetic;\n",
    "open Microsoft.Quantum.Convert;\n",
    "open Microsoft.Quantum.Arrays;\n",
    "open Microsoft.Quantum.Diagnostics;\n",
    "open Microsoft.Quantum.Measurement;"
   ]
  },
  {
   "cell_type": "markdown",
   "metadata": {},
   "source": [
    "Let's build our state preparation $A$:\n",
    "\n",
    "We prepare state using controlled $Y$-axis rotations on a target qubit. For $i \\in [1,2^n]$, we control $Y$-axis rotation with angles $\\theta_i = 2\\pi(x_i - x_0)$ on the control qubits being in state $\\ket{i}_n$. \n",
    "Additionally, we control the rotation $2\\pi x_0$ on the control qubits being $\\ket{0}_n$. \n",
    "The paper optimizes this to only have $n+1$ thetas, where $R_Y(\\theta_0)$ is uncontrolled and $R_Y(\\theta_i), i > 0$ is controlled on the $(n - i)^\\text{th}$ control wire.\n",
    "Due to the uniform spacing, we see $$\\exists \\Delta, x_i = x_0 + i * \\Delta$$\n",
    "Therefore it follows that the optimized version is equivalent to the version that is controlled on $\\ket{i}_n, i \\in [0, 2^n]$."
   ]
  },
  {
   "cell_type": "code",
   "execution_count": 4,
   "metadata": {},
   "outputs": [],
   "source": [
    "%%qsharp\n",
    "operation A(theta : Double[], ctls : Qubit[], target : Qubit) : Unit is Adj + Ctl {\n",
    "    EqualityFactI(Length(theta), Length(ctls) + 1, \"Thetas and controls must have same length\");\n",
    "    ApplyToEachCA(H, ctls);\n",
    "    Ry(theta[0], target);\n",
    "    for i in IndexRange(ctls) {\n",
    "        Controlled Ry([ctls[Length(ctls) - 1 - i]], (theta[i + 1], target));\n",
    "    }\n",
    "}"
   ]
  },
  {
   "cell_type": "markdown",
   "metadata": {},
   "source": [
    "... and our Iteration operator $Q$: The iteration operator $Q$ is given as follows $$Q=A S_0 A^\\dagger S_1$$ where \n",
    "$$S_0 = I_{n + 1} - 2 \\ket{0}\\bra{0}_{n+1}, S_1 = I_n \\otimes Z$$"
   ]
  },
  {
   "cell_type": "code",
   "execution_count": 5,
   "metadata": {},
   "outputs": [],
   "source": [
    "%%qsharp\n",
    "operation Q(theta : Double[], ctls : Qubit[], target : Qubit) : Unit is Adj + Ctl {\n",
    "    Z(target);\n",
    "    within {\n",
    "        Adjoint A(theta, ctls, target);\n",
    "        ApplyToEachCA(X, ctls + [target]); // Turns |0...0> into |1...1> (i.e., enabling the controlled Z to reflect)\n",
    "    } apply {\n",
    "        Controlled Z (ctls, target);\n",
    "    }\n",
    "}"
   ]
  },
  {
   "cell_type": "markdown",
   "metadata": {},
   "source": [
    "The final algorithm will then be built to correspond to the matrix operation:\n",
    "$$Q^kA\\ket{0}_n, k \\geq 0, n \\geq 2$$ "
   ]
  },
  {
   "cell_type": "code",
   "execution_count": 6,
   "metadata": {},
   "outputs": [],
   "source": [
    "%%qsharp\n",
    "operation RunQAE(theta : Double[], k : Int) : Result {\n",
    "    use ctls = Qubit[Length(theta) - 1];\n",
    "    use target = Qubit();\n",
    "    A(theta, ctls, target);\n",
    "    RepeatCA(Q, k, (theta, ctls, target));\n",
    "    let res = MResetZ(target);\n",
    "    ResetAll(ctls);\n",
    "    return res;\n",
    "}\n",
    "\n",
    "operation CountOneResults<'TInput> (op : ('TInput => Result), n : Int , input : 'TInput) : Int {\n",
    "    return Count(res -> res == One, DrawMany(op, n, input));\n",
    "}\n",
    "\n",
    "operation RunNQAE(n : Int, theta : Double[], k : Int) : Int {\n",
    "    return CountOneResults(RunQAE, n, (theta, k));\n",
    "}\n"
   ]
  },
  {
   "cell_type": "markdown",
   "metadata": {},
   "source": [
    "## Spin Echo Optimization\n",
    "\n",
    "After building our $A$ and $Q$, we can use properties of quantum circuits to reduce the number of rotations by merging them.\n",
    "Essentially, we can compute the inverse of our rotations through the `Z` gates, allowing us to merge the operators $A^\\dagger S_1 A$.\n",
    "This optimization is called Spin Echo optimization. \n",
    "Please refer to [arXiv:2005.07711](https://arxiv.org/abs/2005.07711) for more details on why it works. \n"
   ]
  },
  {
   "cell_type": "code",
   "execution_count": 7,
   "metadata": {},
   "outputs": [],
   "source": [
    "%%qsharp\n",
    "operation QSpinEcho(theta : Double[], ctls : Qubit[], target : Qubit) : Unit is Adj + Ctl {\n",
    "    A(Mapped(x -> 2.0 * x, theta), ctls, target);\n",
    "    ApplyToEachCA(H, ctls);\n",
    "    Z(target);\n",
    "    within {\n",
    "        ApplyToEachCA(X, ctls + [target]); // Turns |0...0> into |1...1> (i.e., enabling the controlled Z to reflect)\n",
    "    } apply {\n",
    "        Controlled Z (ctls, target);\n",
    "    }\n",
    "    \n",
    "}\n",
    "\n",
    "operation RunQAESpinEcho(theta : Double[], k : Int) : Result {\n",
    "    use ctls = Qubit[Length(theta) - 1];\n",
    "    use target = Qubit();\n",
    "    RepeatCA(QSpinEcho, k, (theta, ctls, target));\n",
    "    A(theta, ctls, target);\n",
    "    ApplyToEachCA(H, ctls);\n",
    "    let res = MResetZ(target);\n",
    "    ResetAll(ctls);\n",
    "    return res;\n",
    "}\n",
    "\n",
    "operation RunNQAESpinEcho(n : Int, theta : Double[], k : Int) : Int {\n",
    "    return CountOneResults(RunQAESpinEcho, n, (theta, k));\n",
    "}"
   ]
  },
  {
   "cell_type": "markdown",
   "metadata": {},
   "source": [
    "### Resource Estimation of Spin Echo Optimization\n",
    "\n",
    "To see the effectiveness of the Spin Echo optimization, we will use the resource estimator to see the difference in gate count. \n",
    "For this we will use the resource estimator and for bit length 2 and 3 we will see the how many fewer gates the optimized circuit needs for given $k$."
   ]
  },
  {
   "cell_type": "code",
   "execution_count": 8,
   "metadata": {},
   "outputs": [],
   "source": [
    "from IPython.core.display import HTML"
   ]
  },
  {
   "cell_type": "code",
   "execution_count": 9,
   "metadata": {},
   "outputs": [
    {
     "data": {
      "text/html": [
       "<style type=\"text/css\">\n",
       "</style>\n",
       "<table id=\"T_f477e_\">\n",
       "  <caption>Differences with Spin Echo optimization at bit length 2</caption>\n",
       "  <thead>\n",
       "    <tr>\n",
       "      <th class=\"col_heading level0 col0\" >k</th>\n",
       "      <th class=\"col_heading level0 col1\" >1Q gate reduction</th>\n",
       "      <th class=\"col_heading level0 col2\" >2Q gate reduction</th>\n",
       "    </tr>\n",
       "  </thead>\n",
       "  <tbody>\n",
       "    <tr>\n",
       "      <td id=\"T_f477e_row0_col0\" class=\"data row0 col0\" >1</td>\n",
       "      <td id=\"T_f477e_row0_col1\" class=\"data row0 col1\" >16.0%</td>\n",
       "      <td id=\"T_f477e_row0_col2\" class=\"data row0 col2\" >28.57%</td>\n",
       "    </tr>\n",
       "    <tr>\n",
       "      <td id=\"T_f477e_row1_col0\" class=\"data row1 col0\" >2</td>\n",
       "      <td id=\"T_f477e_row1_col1\" class=\"data row1 col1\" >20.45%</td>\n",
       "      <td id=\"T_f477e_row1_col2\" class=\"data row1 col2\" >33.33%</td>\n",
       "    </tr>\n",
       "    <tr>\n",
       "      <td id=\"T_f477e_row2_col0\" class=\"data row2 col0\" >4</td>\n",
       "      <td id=\"T_f477e_row2_col1\" class=\"data row2 col1\" >23.17%</td>\n",
       "      <td id=\"T_f477e_row2_col2\" class=\"data row2 col2\" >36.36%</td>\n",
       "    </tr>\n",
       "    <tr>\n",
       "      <td id=\"T_f477e_row3_col0\" class=\"data row3 col0\" >8</td>\n",
       "      <td id=\"T_f477e_row3_col1\" class=\"data row3 col1\" >24.68%</td>\n",
       "      <td id=\"T_f477e_row3_col2\" class=\"data row3 col2\" >38.1%</td>\n",
       "    </tr>\n",
       "    <tr>\n",
       "      <td id=\"T_f477e_row4_col0\" class=\"data row4 col0\" >16</td>\n",
       "      <td id=\"T_f477e_row4_col1\" class=\"data row4 col1\" >25.48%</td>\n",
       "      <td id=\"T_f477e_row4_col2\" class=\"data row4 col2\" >39.02%</td>\n",
       "    </tr>\n",
       "    <tr>\n",
       "      <td id=\"T_f477e_row5_col0\" class=\"data row5 col0\" >32</td>\n",
       "      <td id=\"T_f477e_row5_col1\" class=\"data row5 col1\" >25.9%</td>\n",
       "      <td id=\"T_f477e_row5_col2\" class=\"data row5 col2\" >39.51%</td>\n",
       "    </tr>\n",
       "    <tr>\n",
       "      <td id=\"T_f477e_row6_col0\" class=\"data row6 col0\" >64</td>\n",
       "      <td id=\"T_f477e_row6_col1\" class=\"data row6 col1\" >26.1%</td>\n",
       "      <td id=\"T_f477e_row6_col2\" class=\"data row6 col2\" >39.75%</td>\n",
       "    </tr>\n",
       "    <tr>\n",
       "      <td id=\"T_f477e_row7_col0\" class=\"data row7 col0\" >128</td>\n",
       "      <td id=\"T_f477e_row7_col1\" class=\"data row7 col1\" >26.21%</td>\n",
       "      <td id=\"T_f477e_row7_col2\" class=\"data row7 col2\" >39.88%</td>\n",
       "    </tr>\n",
       "  </tbody>\n",
       "</table>\n",
       "<br><style type=\"text/css\">\n",
       "</style>\n",
       "<table id=\"T_e5b6a_\">\n",
       "  <caption>Differences with Spin Echo optimization at bit length 3</caption>\n",
       "  <thead>\n",
       "    <tr>\n",
       "      <th class=\"col_heading level0 col0\" >k</th>\n",
       "      <th class=\"col_heading level0 col1\" >1Q gate reduction</th>\n",
       "      <th class=\"col_heading level0 col2\" >2Q gate reduction</th>\n",
       "    </tr>\n",
       "  </thead>\n",
       "  <tbody>\n",
       "    <tr>\n",
       "      <td id=\"T_e5b6a_row0_col0\" class=\"data row0 col0\" >1</td>\n",
       "      <td id=\"T_e5b6a_row0_col1\" class=\"data row0 col1\" >14.89%</td>\n",
       "      <td id=\"T_e5b6a_row0_col2\" class=\"data row0 col2\" >18.18%</td>\n",
       "    </tr>\n",
       "    <tr>\n",
       "      <td id=\"T_e5b6a_row1_col0\" class=\"data row1 col0\" >2</td>\n",
       "      <td id=\"T_e5b6a_row1_col1\" class=\"data row1 col1\" >19.28%</td>\n",
       "      <td id=\"T_e5b6a_row1_col2\" class=\"data row1 col2\" >20.0%</td>\n",
       "    </tr>\n",
       "    <tr>\n",
       "      <td id=\"T_e5b6a_row2_col0\" class=\"data row2 col0\" >4</td>\n",
       "      <td id=\"T_e5b6a_row2_col1\" class=\"data row2 col1\" >21.94%</td>\n",
       "      <td id=\"T_e5b6a_row2_col2\" class=\"data row2 col2\" >21.05%</td>\n",
       "    </tr>\n",
       "    <tr>\n",
       "      <td id=\"T_e5b6a_row3_col0\" class=\"data row3 col0\" >8</td>\n",
       "      <td id=\"T_e5b6a_row3_col1\" class=\"data row3 col1\" >23.41%</td>\n",
       "      <td id=\"T_e5b6a_row3_col2\" class=\"data row3 col2\" >21.62%</td>\n",
       "    </tr>\n",
       "    <tr>\n",
       "      <td id=\"T_e5b6a_row4_col0\" class=\"data row4 col0\" >16</td>\n",
       "      <td id=\"T_e5b6a_row4_col1\" class=\"data row4 col1\" >24.19%</td>\n",
       "      <td id=\"T_e5b6a_row4_col2\" class=\"data row4 col2\" >21.92%</td>\n",
       "    </tr>\n",
       "    <tr>\n",
       "      <td id=\"T_e5b6a_row5_col0\" class=\"data row5 col0\" >32</td>\n",
       "      <td id=\"T_e5b6a_row5_col1\" class=\"data row5 col1\" >24.59%</td>\n",
       "      <td id=\"T_e5b6a_row5_col2\" class=\"data row5 col2\" >22.07%</td>\n",
       "    </tr>\n",
       "    <tr>\n",
       "      <td id=\"T_e5b6a_row6_col0\" class=\"data row6 col0\" >64</td>\n",
       "      <td id=\"T_e5b6a_row6_col1\" class=\"data row6 col1\" >24.79%</td>\n",
       "      <td id=\"T_e5b6a_row6_col2\" class=\"data row6 col2\" >22.15%</td>\n",
       "    </tr>\n",
       "    <tr>\n",
       "      <td id=\"T_e5b6a_row7_col0\" class=\"data row7 col0\" >128</td>\n",
       "      <td id=\"T_e5b6a_row7_col1\" class=\"data row7 col1\" >24.9%</td>\n",
       "      <td id=\"T_e5b6a_row7_col2\" class=\"data row7 col2\" >22.18%</td>\n",
       "    </tr>\n",
       "  </tbody>\n",
       "</table>\n"
      ],
      "text/plain": [
       "<IPython.core.display.HTML object>"
      ]
     },
     "execution_count": 9,
     "metadata": {},
     "output_type": "execute_result"
    }
   ],
   "source": [
    "dfs = []\n",
    "for bitlen in (2, 3):\n",
    "    deltas = []\n",
    "    theta = list(map(lambda _ : random.uniform(0, 3.14), range(bitlen))) # Random thetas\n",
    "    for k in map(lambda x : 2 ** x, range(8)):\n",
    "        spin_echo_res = RunQAESpinEcho.estimate_resources(theta=theta, k=k)\n",
    "        res = RunQAE.estimate_resources(theta=theta, k=k)\n",
    "\n",
    "        def delta(key : str) -> int:\n",
    "            return (res[key] - spin_echo_res[key])\n",
    "\n",
    "        delta_2q = str(np.round(delta('CNOT') / res['CNOT'] * 100, 2)) + '%'\n",
    "        delta_1q = str(np.round((delta('QubitClifford') + delta('R') + delta('T')) / (res['QubitClifford'] + res['R'] + res['T']) * 100, 2)) + '%'\n",
    "        deltas.append([k, delta_1q, delta_2q])\n",
    "    df = pd.DataFrame(deltas, columns=[\"k\", \"1Q gate reduction\", \"2Q gate reduction\"])\n",
    "    df = df.style.set_caption(f\"Differences with Spin Echo optimization at bit length {bitlen}\").hide_index()\n",
    "    dfs.append(df)\n",
    "\n",
    "html_dfs = list(map(lambda df : df.to_html(), dfs))\n",
    "HTML(\"<br>\".join(html_dfs))"
   ]
  },
  {
   "cell_type": "markdown",
   "metadata": {},
   "source": [
    "We see that the Spin Echo circuit requires fewer gates across the board and for higher $k$ we get bigger benefits.\n",
    "\n",
    "## Maximum Likelihood Estimator (MLE)\n",
    "\n",
    "We will be using the MLE to get our optimal theta results with a modified optimization function that you can see in the code below as `loglikelihood`.\n",
    "\n",
    "To learn more about why and how this estimator works with QAE please see [arXiv:1904.10246](https://arxiv.org/pdf/1904.10246.pdf).\n",
    "\n",
    "We use (and adapt) the MLE calculation methods from the work resulting from [arXiv:1904.10246](https://arxiv.org/pdf/1904.10246.pdf) that can be found in the [Qiskit community tutorials on GitHub](https://github.com/qiskit-community/qiskit-community-tutorials/blob/master/algorithms/SimpleIntegral_AEwoPE.ipynb)."
   ]
  },
  {
   "cell_type": "code",
   "execution_count": 10,
   "metadata": {},
   "outputs": [],
   "source": [
    "from typing import List, Tuple\n",
    "\n",
    "def calculate_theta(hit_list: List[int], number: List[int], shots: List[int]) -> List[float]:\n",
    "    \"\"\"\n",
    "        calculate optimal theta values\n",
    "            hit_list: list of count of obserbving \"1\"\n",
    "            number: list of number of Grover operators        \n",
    "            shots_list: list of number of shots\n",
    "\n",
    "        Return:\n",
    "            theta_candidates: list of optimal theta\n",
    "    \"\"\"\n",
    "\n",
    "    small = 1.e-15  # small valued parameter to avoid zero division\n",
    "    confidence_level = 5  # confidence level to determine the search range\n",
    "\n",
    "    theta_candidates = []\n",
    "    range_min = 0.0 + small\n",
    "    range_max = 1.0 - small\n",
    "    for idx_grover_operator in range(len(number)):\n",
    "\n",
    "        def loglikelihood(p):\n",
    "            ret = np.zeros_like(p)\n",
    "            theta = np.arcsin(np.sqrt(p))\n",
    "            for n in range(idx_grover_operator + 1):\n",
    "                ihit = hit_list[n]\n",
    "                arg = (2 * number[n] + 1) * theta\n",
    "                ret = ret + 2 * ihit * np.log(np.abs(np.sin(arg))) + 2 * (\n",
    "                    shots - ihit) * np.log(np.abs(np.cos(arg)))\n",
    "            return -ret\n",
    "\n",
    "        search_range = (range_min, range_max)\n",
    "        prob_candidate = optimize.brute(loglikelihood, [search_range])[0]\n",
    "        theta_candidates.append(np.arcsin(np.sqrt(prob_candidate)))\n",
    "        pbound = cramer_rao_bound(idx_grover_operator, shots, prob_candidate, number)\n",
    "        range_max = min(prob_candidate+confidence_level * pbound, 1.0 - small)\n",
    "        range_min = max(prob_candidate-confidence_level * pbound, 0.0 + small)\n",
    "    return theta_candidates\n",
    "\n",
    "\n",
    "def cramer_rao_bound(M: int, shots: List[int], p0: float, number: List[int]) -> float:\n",
    "    \"\"\"\n",
    "        calculate Cramér-Rao lower bound\n",
    "            M: upper limit of the sum in Fisher information \n",
    "            shots_list:  list of number of shots\n",
    "            p0: the true parameter value to be estimated\n",
    "            number: list of number of Grover operators        \n",
    "\n",
    "        Return:\n",
    "            square root of Cramér-Rao lower bound:  lower bound on the standard deviation of unbiased estimators\n",
    "    \"\"\"\n",
    "    fisher_info = sum(map(lambda mk : shots / (p0 * (1 - p0)) * (2 * mk + 1)**2, number[:M+1]))\n",
    "    return np.sqrt(1 / fisher_info)\n"
   ]
  },
  {
   "cell_type": "markdown",
   "metadata": {},
   "source": [
    "With the statistical preliminaries out of the way, let's build a function that assembles our $\\theta_i, i \\in [0, n]$, runs our circuit and calculates the most likely values."
   ]
  },
  {
   "cell_type": "code",
   "execution_count": 11,
   "metadata": {
    "scrolled": true
   },
   "outputs": [],
   "source": [
    "def compute_theta(bit_length: int, y_int: Tuple[float, float]) -> List[float]:\n",
    "    (y0, y) = y_int\n",
    "    y_scs = [i * (y - y0) / bit_length for i in range(bit_length)]\n",
    "    thetas = [2 * math.pi * (y_sc - y0) for y_sc in y_scs]\n",
    "    return thetas\n",
    "\n",
    "\n",
    "def integrate(run_fn, bit_length: int, y_int: Tuple[float, float], ks: List[int], shots=250) -> List[float]:\n",
    "    prev = 0\n",
    "    (_, y) = y_int\n",
    "    print(f\"integration for y in {y_int}\")\n",
    "    # Precompute thetas\n",
    "    theta = compute_theta(bit_length=bit_length, y_int=y_int)\n",
    "    # Run Amplitude estimation\n",
    "    good_states = []\n",
    "    for k in ks:\n",
    "        good_states.append(run_fn(n=shots, theta=theta, k=k, y_int=y_int))\n",
    "    result_thetas = calculate_theta(good_states, ks, shots)\n",
    "    return list(map(lambda x: x * y, result_thetas))\n"
   ]
  },
  {
   "cell_type": "markdown",
   "metadata": {},
   "source": [
    "We then proceed to actually integrate our work and collect data."
   ]
  },
  {
   "cell_type": "code",
   "execution_count": 12,
   "metadata": {},
   "outputs": [],
   "source": [
    "from IPython.display import clear_output\n",
    "n = 15\n",
    "ys = list(map(lambda x : 0.5 * x / n, list(range(n + 1))))\n",
    "ks = [0, 1, 2, 4, 8, 16]\n",
    "\n",
    "def get_results(run_fn, bit_length=2, ys=ys, ks=ks, shots=200):\n",
    "    k_vals = dict()\n",
    "    for k in ks:\n",
    "        k_vals[k] = []\n",
    "    prev = ys[0]\n",
    "    for y in ys: \n",
    "        res = list(integrate(run_fn, bit_length=2, y_int=(0, y), shots=200, ks=ks))\n",
    "        assert len(ks) == len(res)\n",
    "        for i in range(len(ks)):\n",
    "            k_vals[ks[i]] += [res[i]]\n",
    "        prev = y\n",
    "    return k_vals"
   ]
  },
  {
   "cell_type": "code",
   "execution_count": 13,
   "metadata": {},
   "outputs": [
    {
     "name": "stdout",
     "output_type": "stream",
     "text": [
      "integration for y in (0, 0.0)\n",
      "integration for y in (0, 0.03333333333333333)\n",
      "integration for y in (0, 0.06666666666666667)\n",
      "integration for y in (0, 0.1)\n",
      "integration for y in (0, 0.13333333333333333)\n",
      "integration for y in (0, 0.16666666666666666)\n",
      "integration for y in (0, 0.2)\n",
      "integration for y in (0, 0.23333333333333334)\n",
      "integration for y in (0, 0.26666666666666666)\n",
      "integration for y in (0, 0.3)\n",
      "integration for y in (0, 0.3333333333333333)\n",
      "integration for y in (0, 0.36666666666666664)\n",
      "integration for y in (0, 0.4)\n",
      "integration for y in (0, 0.43333333333333335)\n",
      "integration for y in (0, 0.4666666666666667)\n",
      "integration for y in (0, 0.5)\n"
     ]
    }
   ],
   "source": [
    "k_vals = get_results(RunNQAESpinEcho.simulate)"
   ]
  },
  {
   "cell_type": "markdown",
   "metadata": {},
   "source": [
    "Now we'll plot our approximations for different values of $k$ against the exact integral"
   ]
  },
  {
   "cell_type": "code",
   "execution_count": 14,
   "metadata": {},
   "outputs": [],
   "source": [
    "def f(x : float) -> float:\n",
    "    return (math.sin(math.pi * x)) ** 2\n",
    "\n",
    "def int_f(x : float) -> float:\n",
    "    return x / 2 - math.sin(2 * math.pi *x) / (4 * math.pi)"
   ]
  },
  {
   "cell_type": "code",
   "execution_count": 15,
   "metadata": {},
   "outputs": [],
   "source": [
    "colors = dict()\n",
    "colors[0] = 'b'\n",
    "colors[1] = 'r'\n",
    "colors[2] = 'c'\n",
    "colors[4] = 'm'\n",
    "colors[8] = 'y'\n",
    "colors[16] = 'pink'\n",
    "colors[32] = 'grey'"
   ]
  },
  {
   "cell_type": "code",
   "execution_count": 16,
   "metadata": {},
   "outputs": [],
   "source": [
    "def plot(ys : list, k_vals : dict) -> None:\n",
    "    int_f_y = list(map(int_f, ys))\n",
    "    f_y = list(map(f, ys))\n",
    "    fig, ax = plt.subplots()\n",
    "    ax.set_xlabel('y')\n",
    "    int_fx_plot, = plt.plot(ys, int_f_y, color='g', label='$g(y) = \\int_{x=0}^y \\sin^2(\\pi x) dx$')\n",
    "    apprx_plots = []\n",
    "    for k, vals in k_vals.items(): \n",
    "        f_vals = list(map(lambda x : x / 1, vals))\n",
    "        apprx_plot, = plt.plot(ys, f_vals, colors[k], label='$\\widehat{g(y)}, ' + f'k={k}$')\n",
    "        apprx_plots.append(apprx_plot)\n",
    "    ax.legend(handles=[int_fx_plot] + apprx_plots)"
   ]
  },
  {
   "cell_type": "code",
   "execution_count": 17,
   "metadata": {},
   "outputs": [
    {
     "data": {
      "image/png": "[encoded data removed]",
      "text/plain": [
       "<Figure size 432x288 with 1 Axes>"
      ]
     },
     "metadata": {
      "needs_background": "light"
     },
     "output_type": "display_data"
    }
   ],
   "source": [
    "plot(ys, k_vals)"
   ]
  },
  {
   "cell_type": "markdown",
   "metadata": {},
   "source": [
    "In this plot we see that all of our results look fairly close to the expected value graphed in green.\n",
    "\n",
    "Therefore, we'll graph the errors to get see which $k$ performs best."
   ]
  },
  {
   "cell_type": "code",
   "execution_count": 18,
   "metadata": {},
   "outputs": [],
   "source": [
    "def loss(x : float, expected : float) -> float: \n",
    "    return (x - expected) ** 2\n",
    "\n",
    "def compute_err(ys : list, vals : list) -> list:\n",
    "    assert len(ys) == len(vals)\n",
    "    err = []\n",
    "    f_y = list(map(f, ys))\n",
    "    int_f_y = list(map(int_f, ys))\n",
    "    err = [loss(g_hat_y, g_y) for g_hat_y, g_y in zip(vals, int_f_y)]\n",
    "    return err\n",
    "\n",
    "def plot_err(ys, k_err : dict) -> None:\n",
    "    fig, ax = plt.subplots()\n",
    "    ax.set_xlabel('y')\n",
    "    ax.set_ylabel('error')\n",
    "    err_plots = []\n",
    "    for k, err in k_err.items():  \n",
    "        err_plot, = plt.plot(ys, err, colors[k], label='$L(\\hat{y}, y)$, ' + f'k={k}')\n",
    "        err_plots.append(err_plot)\n",
    "    ax.legend(handles=err_plots)\n",
    "\n",
    "def plot_average_err(k_err_avg : dict) -> None:\n",
    "    fig, ax = plt.subplots()\n",
    "    ax.set_xlabel('$k$')\n",
    "    ax.set_ylabel('Frequentis risk (average error)')\n",
    "    plt.bar(list(map(lambda x : str(x), k_err_avg.keys())), k_err_avg.values())\n",
    "\n",
    "def build_err(ys : list, k_vals : dict) -> tuple:\n",
    "    k_err = dict()\n",
    "    k_err_avg = dict()\n",
    "    for k, vals in k_vals.items():\n",
    "        f_vals = list(map(lambda x : f(x) / 2, vals))\n",
    "        k_err[k] = compute_err(ys, f_vals)\n",
    "        k_err_avg[k] = np.average(k_err[k])\n",
    "    return (k_err, k_err_avg)"
   ]
  },
  {
   "cell_type": "code",
   "execution_count": 19,
   "metadata": {},
   "outputs": [],
   "source": [
    "k_err, k_err_avg = build_err(ys, k_vals)"
   ]
  },
  {
   "cell_type": "code",
   "execution_count": 20,
   "metadata": {},
   "outputs": [
    {
     "data": {
      "image/png": "[encoded data removed]",
      "text/plain": [
       "<Figure size 432x288 with 1 Axes>"
      ]
     },
     "metadata": {
      "needs_background": "light"
     },
     "output_type": "display_data"
    }
   ],
   "source": [
    "plot_err(ys, k_err)"
   ]
  },
  {
   "cell_type": "markdown",
   "metadata": {},
   "source": [
    "Here we clearly see that $k=0$ performs worse than the other values. Let's look at the average error to get a better picture."
   ]
  },
  {
   "cell_type": "code",
   "execution_count": 21,
   "metadata": {},
   "outputs": [
    {
     "data": {
      "image/png": "[encoded data removed]",
      "text/plain": [
       "<Figure size 432x288 with 1 Axes>"
      ]
     },
     "metadata": {
      "needs_background": "light"
     },
     "output_type": "display_data"
    }
   ],
   "source": [
    "plot_average_err(k_err_avg)"
   ]
  },
  {
   "cell_type": "markdown",
   "metadata": {},
   "source": [
    "As we'd expect, the error is trending downward with increasing $k$.\n",
    "\n",
    "Let us now repeat the same on IonQ Harmony to see if the results are the same.\n",
    "\n",
    "First, we will connect to the Azure Quantum service and select the IonQ harmony target."
   ]
  },
  {
   "cell_type": "code",
   "execution_count": null,
   "metadata": {},
   "outputs": [],
   "source": [
    "targets = qsharp.azure.connect(\n",
    "    resourceId=\"\",\n",
    "    location=\"\"\n",
    ")"
   ]
  },
  {
   "cell_type": "code",
   "execution_count": 24,
   "metadata": {},
   "outputs": [
    {
     "name": "stdout",
     "output_type": "stream",
     "text": [
      "This workspace has 10 targets:\n",
      "- ionq.qpu (average queue time 0:01:13)\n",
      "- ionq.qpu.aria-1 (average queue time 3:40:44)\n",
      "- ionq.simulator (average queue time 0:00:02)\n",
      "- quantinuum.hqs-lt-s1 (average queue time 0:00:00)\n",
      "- quantinuum.hqs-lt-s1-apival (average queue time 0:00:01)\n",
      "- quantinuum.hqs-lt-s2 (average queue time 0:00:00)\n",
      "- quantinuum.hqs-lt-s2-apival (average queue time 0:00:01)\n",
      "- quantinuum.hqs-lt-s1-sim (average queue time 3:47:43)\n",
      "- quantinuum.hqs-lt-s2-sim (average queue time 0:02:33)\n",
      "- quantinuum.hqs-lt (average queue time 0:00:00)\n"
     ]
    }
   ],
   "source": [
    "print(f\"This workspace has {len(targets)} targets:\")\n",
    "for target in targets:\n",
    "    print(f\"- {target.id} (average queue time {datetime.timedelta(seconds=target.average_queue_time)})\")"
   ]
  },
  {
   "cell_type": "code",
   "execution_count": 25,
   "metadata": {},
   "outputs": [
    {
     "name": "stdout",
     "output_type": "stream",
     "text": [
      "Loading package Microsoft.Quantum.Providers.IonQ and dependencies...\n",
      "Active target is now ionq.qpu\n"
     ]
    },
    {
     "data": {
      "text/plain": [
       "{'id': 'ionq.qpu', 'current_availability': {}, 'average_queue_time': 73}"
      ]
     },
     "execution_count": 25,
     "metadata": {},
     "output_type": "execute_result"
    }
   ],
   "source": [
    "qsharp.azure.target(\"ionq.qpu\")"
   ]
  },
  {
   "cell_type": "markdown",
   "metadata": {},
   "source": [
    "Now we write some logic to handle our jobs. Since jobs submitted to real hardware might take a bit to complete, we want to have infrastructure to submit jobs, check their status and fetch their results."
   ]
  },
  {
   "cell_type": "code",
   "execution_count": 26,
   "metadata": {},
   "outputs": [],
   "source": [
    "def submit_integration_jobs_yint(bit_length: int, y_int: tuple, ks, shots=250):\n",
    "    theta = compute_theta(bit_length=bit_length, y_int=y_int)\n",
    "    # Run Amplitude estimation\n",
    "    k_jobs = dict()\n",
    "    for k in ks:\n",
    "        k_jobs[k] = qsharp.azure.submit(RunQAESpinEcho, jobName = f\"QAE for bit length {bit_length}, k={k}, y_int={y_int}\", shots=shots, theta=theta, k=k)\n",
    "    return k_jobs\n",
    "\n",
    "def submit_integration_jobs(bit_length: int, ys : list, ks, shots=250):\n",
    "    y_k_jobs = dict()\n",
    "    for y in ys:\n",
    "        y_int = (0, y)\n",
    "        y_k_jobs[y_int] = submit_integration_jobs_yint(bit_length, y_int, ks, shots)\n",
    "    return y_k_jobs\n",
    "\n",
    "def get_job(job_id : str) -> tuple:\n",
    "    current_job = qsharp.azure.status(jobId=job_id)\n",
    "    succeeded = current_job.status == 'Succeeded'\n",
    "    if succeeded:\n",
    "        print(f'Job completed')\n",
    "    elif current_job.status == 'Failed':\n",
    "        print(f'Job \\\"{current_job.name}\\\" failed. Please review reason at {current_job.uri}')\n",
    "    else:\n",
    "        print(f'Job \\\"{current_job.name}\\\" is still running. Please check back later!')\n",
    "    return (succeeded, current_job)\n",
    "\n",
    "\n",
    "def get_job_result(job_id : str, shots : int) -> int:\n",
    "    (success, _) = get_job(job_id=job_id)\n",
    "    if not success:\n",
    "        raise Exception(\"Job not completed\")\n",
    "    output = qsharp.azure.output(jobId=job_id)\n",
    "    if '1' not in output: # All 0 return\n",
    "        return 0\n",
    "    return np.round(output['1'] * shots)\n",
    "\n",
    "\n",
    "def get_all_job_results(y_k_jobs : dict, shots=250) -> dict:\n",
    "    y_k_job_result = dict()\n",
    "    for (y, k_jobs) in y_k_jobs.items():\n",
    "        y_k_job_result[y] = dict()\n",
    "        for (k, job) in k_jobs.items():\n",
    "            y_k_job_result[y][k] = get_job_result(job_id=job.id, shots=shots)\n",
    "    return y_k_job_result\n",
    "\n",
    "def build_use_job_output(y_k_job_result : dict):\n",
    "    def use_job_output(n : int, theta : list, k : int, y_int : tuple) -> int:\n",
    "        return y_k_job_result[y_int][k]\n",
    "    return use_job_output\n"
   ]
  },
  {
   "cell_type": "markdown",
   "metadata": {},
   "source": [
    "Let's go ahead and run them!\n",
    "\n",
    "\n",
    "**Please note that this sample makes use of paid services on Azure Quantum. \n",
    "The cost of running this sample with the provided parameters on IonQ is approximately \\$147. \n",
    "This quantity is only an approximate estimate and should not be used as a binding reference. \n",
    "The cost of the service might vary depending on your region, demand and other factors.**\n",
    "\n",
    "Please note this might take a while. Please keep the tab with the sample open until completion."
   ]
  },
  {
   "cell_type": "code",
   "execution_count": 27,
   "metadata": {},
   "outputs": [
    {
     "name": "stdout",
     "output_type": "stream",
     "text": [
      "Submitted all jobs successfully!\n"
     ]
    }
   ],
   "source": [
    "#y_k_jobs = submit_integration_jobs(bit_length=2,ys=ys,ks=ks)\n",
    "\n",
    "clear_output(wait=True)\n",
    "print(\"Submitted all jobs successfully!\")"
   ]
  },
  {
   "cell_type": "code",
   "execution_count": 28,
   "metadata": {},
   "outputs": [],
   "source": [
    "import pickle\n"
   ]
  },
  {
   "cell_type": "code",
   "execution_count": 29,
   "metadata": {},
   "outputs": [
    {
     "name": "stdout",
     "output_type": "stream",
     "text": [
      "\n"
     ]
    }
   ],
   "source": [
    "with open('jobs-qpu.pkl', 'wb') as pkl_file:\n",
    "    pickle.dump(y_k_jobs, pkl_file)\n"
   ]
  },
  {
   "cell_type": "code",
   "execution_count": 33,
   "metadata": {},
   "outputs": [],
   "source": [
    "with open('jobs-qpu.pkl', 'rb') as pkl_file:\n",
    "    y_k_jobs = pickle.load(pkl_file)"
   ]
  },
  {
   "cell_type": "code",
   "execution_count": 37,
   "metadata": {},
   "outputs": [
    {
     "name": "stdout",
     "output_type": "stream",
     "text": [
      "Processed all results successfully!\n"
     ]
    }
   ],
   "source": [
    "y_k_job_results = get_all_job_results(y_k_jobs,)\n",
    "clear_output(wait=True)\n",
    "print(\"Processed all results successfully!\")"
   ]
  },
  {
   "cell_type": "markdown",
   "metadata": {},
   "source": [
    "Once we're done, we will get our results.\n"
   ]
  },
  {
   "cell_type": "code",
   "execution_count": 38,
   "metadata": {},
   "outputs": [
    {
     "name": "stdout",
     "output_type": "stream",
     "text": [
      "integration for y in (0, 0.0)\n",
      "integration for y in (0, 0.03333333333333333)\n",
      "integration for y in (0, 0.06666666666666667)\n",
      "integration for y in (0, 0.1)\n",
      "integration for y in (0, 0.13333333333333333)\n",
      "integration for y in (0, 0.16666666666666666)\n",
      "integration for y in (0, 0.2)\n",
      "integration for y in (0, 0.23333333333333334)\n",
      "integration for y in (0, 0.26666666666666666)\n",
      "integration for y in (0, 0.3)\n",
      "integration for y in (0, 0.3333333333333333)\n",
      "integration for y in (0, 0.36666666666666664)\n",
      "integration for y in (0, 0.4)\n",
      "integration for y in (0, 0.43333333333333335)\n",
      "integration for y in (0, 0.4666666666666667)\n",
      "integration for y in (0, 0.5)\n"
     ]
    }
   ],
   "source": [
    "k_vals_aq = get_results(build_use_job_output(y_k_job_results))"
   ]
  },
  {
   "cell_type": "markdown",
   "metadata": {},
   "source": [
    "Let's now graph our results/errors and see if they differ from our findings on the simulator!"
   ]
  },
  {
   "cell_type": "code",
   "execution_count": 39,
   "metadata": {},
   "outputs": [
    {
     "data": {
      "image/png": "[encoded data removed]",
      "text/plain": [
       "<Figure size 432x288 with 1 Axes>"
      ]
     },
     "metadata": {
      "needs_background": "light"
     },
     "output_type": "display_data"
    }
   ],
   "source": [
    "plot(ys, k_vals_aq)"
   ]
  },
  {
   "cell_type": "code",
   "execution_count": 40,
   "metadata": {},
   "outputs": [],
   "source": [
    "k_err, k_err_avg = build_err(ys, k_vals_aq)"
   ]
  },
  {
   "cell_type": "code",
   "execution_count": 41,
   "metadata": {},
   "outputs": [
    {
     "data": {
      "image/png": "[encoded data removed]",
      "text/plain": [
       "<Figure size 432x288 with 1 Axes>"
      ]
     },
     "metadata": {
      "needs_background": "light"
     },
     "output_type": "display_data"
    }
   ],
   "source": [
    "plot_err(ys, k_err)"
   ]
  },
  {
   "cell_type": "code",
   "execution_count": 42,
   "metadata": {},
   "outputs": [
    {
     "data": {
      "image/png": "[encoded data removed]",
      "text/plain": [
       "<Figure size 432x288 with 1 Axes>"
      ]
     },
     "metadata": {
      "needs_background": "light"
     },
     "output_type": "display_data"
    }
   ],
   "source": [
    "plot_average_err(k_err_avg)"
   ]
  },
  {
   "cell_type": "markdown",
   "metadata": {},
   "source": [
    "In our graph we see our results are not as on the simulator. \n",
    "In fact, in our testing $k=0$ performed better than any other $k$.\n",
    "This comes down to the noise incurred by the additional gates that we need to apply for the larger values of $k$.\n",
    "This is an interesting result because it shows considerations for current quantum computers that a perfect simulator does not depict: Every gate introduces noise.\n",
    "As a result, one of our goals must be to reduce circuit depth. \n",
    "Despite having the reduced depth already using the spin echo optimization, we still have noise effects. \n",
    "Without this optimization's circuit depth reduction we'd expect noise to be even higher.\n",
    "But we can see that even with very few qubits and high noise we were able to approximate our integral quite closely.\n",
    "That means that there is a lot more to explore with what we can do on current hardware.\n"
   ]
  }
 ],
 "metadata": {
  "kernelspec": {
   "display_name": "Python 3.7.13 ('qsharp-env-37')",
   "language": "python",
   "name": "python3"
  },
  "language_info": {
   "codemirror_mode": {
    "name": "ipython",
    "version": 3
   },
   "file_extension": ".py",
   "mimetype": "text/x-python",
   "name": "python",
   "nbconvert_exporter": "python",
   "pygments_lexer": "ipython3",
   "version": "3.7.13"
  },
  "vscode": {
   "interpreter": {
    "hash": "2ae822f0f83fed12107faf85edb2b742fdce767c971cd51f224ccfc7e38aba9d"
   }
  }
 },
 "nbformat": 4,
 "nbformat_minor": 2
}
